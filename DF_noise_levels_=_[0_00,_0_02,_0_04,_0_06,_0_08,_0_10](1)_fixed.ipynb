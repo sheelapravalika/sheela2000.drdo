{
  "cells": [
    {
      "cell_type": "markdown",
      "metadata": {
        "id": "view-in-github",
        "colab_type": "text"
      },
      "source": [
        "<a href=\"https://colab.research.google.com/github/sheelapravalika/sheela2000.drdo/blob/main/DF_noise_levels_%3D_%5B0_00%2C_0_02%2C_0_04%2C_0_06%2C_0_08%2C_0_10%5D(1)_fixed.ipynb\" target=\"_parent\"><img src=\"https://colab.research.google.com/assets/colab-badge.svg\" alt=\"Open In Colab\"/></a>"
      ]
    },
    {
      "cell_type": "code",
      "execution_count": null,
      "metadata": {
        "colab": {
          "base_uri": "https://localhost:8080/",
          "height": 1000,
          "referenced_widgets": [
            "c88815c83e3045899f88855a0bdc591f",
            "0aafb16a363d4b0c9902b7e2080b6180",
            "9257abc737254fa6ac1fa9a89c37eeba",
            "bec08c2f83084252bdc9c96e18427a8b",
            "92b08d6fa6d64d76839c7535e5792806",
            "eb96557d0a4c47c189f16b821754dc8c",
            "bb0baaae8ed7490aa147917d8000d60f",
            "c51486653e41461593adb8959fdeb607",
            "3226f868069346bca0be5b3d4aedf88a",
            "c74c493e3fd84901949acd60c9bdfb0b",
            "440dbecde3f74a259da077b5a89882ca",
            "efb577b875c9415d89dba3c45636ffe2",
            "a78328e2e22f4cbb8db784b62013f633",
            "62c6e4a622964ca0b548cc1ab05b2873",
            "4901554ddf294e9ba4e8d1a68f28fe4b",
            "cf7004bdc8e1496e9df08ce7e5d9c1a1",
            "e51cdca03e004d9b86495606a4d87945",
            "3070393ad54244599f0acc1be0ddbcc9",
            "b2e1c244fe75477a86b7e7856893b470",
            "0b44d0b131bc48538ef8b71b907ce05a",
            "b6495506be43429a9fe2001b701343ed",
            "9ba955a7d3914bb3bb18a80c7c991fae",
            "f07b6aa408c9495ca9f2c9fdea81a1af",
            "65760ab8be6d414a85cbe37e9a64113d",
            "1ab75c1600834ce383c17c598ba7d460",
            "097319441e9e4fa58ae70b2a530036b2",
            "ddabc64b67624ee1afb7cadf3a6b4227",
            "ed7792d4bab14d5e88e7bbf3b8d882f9",
            "d1d415d252bb413982770fcfb4f9f192",
            "c3043630bf4f4524b73d15aadf271573",
            "7ffb3a3b871c41a9ad0bcede729ef700",
            "da42e0032ca948028dbc2ef30e21249f",
            "b9b618e3518248389d977e1a4d8402df",
            "b739ef29e4a54530acb03441e475a525",
            "9608b1094268493494e5eb90e12980d5",
            "c21b9d033c7944459f344b23785280d1",
            "7505577d199a4a6f873413faf5616607",
            "a6f1ee7fec9d4176a96c618b66b494b1",
            "8ad0f40deedf4ae999a66b37825e934d",
            "ec61b997f73b46f0bbcea0e6e2347590",
            "c3402e5dad8b463c91ebd4d1bc2fb0d7",
            "064374ece02c4e7eb8b16ef85207b651",
            "f406064b3b6949ca89e6f5258bc4afef",
            "e40d5eea5d634d64aed3f2d60bacb2c2",
            "23ab65938e1d4ce78c77901643951fef",
            "e3950401beb24e5691350771f5d0dd7f",
            "b2b232936b494b59bc619eabe581123f",
            "8d5068945c2145e28a96fcda684000b4",
            "6e75f20ee31d4712abda4b3f81f7f1a9",
            "49154de7d7444c83a085e774afae5b8f",
            "d6b1f3c06db544adb994af95838b40b9",
            "1310406ea8eb479eb9974f2d94e3a8b2",
            "12862554e7c7449ea4125f74fcda8fd9",
            "5e3d4d0cf4864ac590ef7cab4e190ec3",
            "c2bc5a53a6b94b41a5a279a4bdf45568",
            "e67c15067d0c44a0b92c38ea98feb758",
            "31ca7f69e76844c2a8e097fb8575da0c",
            "995cf0eb63364c868596e92ba3666f11",
            "ae5334616763452bb5d9752cb2634372",
            "7cdc82e1b988407c84631a4dd4f9af61",
            "859eb7f73262414b864a90779f6e74b9",
            "1aa663e624584624b7f266d389db7111",
            "70d770fcd89c4158a9a01e1fcb314928",
            "e6cc9fdefa81402895fbebf44ae7f7ae",
            "bc33687dc40f4a1b83ee2aef6493ab5b",
            "6d1ce345b5bf474f857c725e53395394",
            "527832481ac6412a9ad47fc2c724a552",
            "8e59299641554d49a58c751d34c7f7b4",
            "df963c1245a44c7a8ba319567b44b48f",
            "9542b0f7c01b499a9d41826bbf8c31ea",
            "6c7741ea0d1f49978c3f9d039f7e911f",
            "e691e8acf19549a6913132442c39ea7f",
            "56b4c695a77347a4914857a0d9a89616",
            "007ae87b2fe74fc68316a085dd8b70bf",
            "f0eacd6ea92f49039ff383fc221cbdd0",
            "699925831eda4c47981a111e35001db8",
            "5ec7d91e304b4a148a5d2ddf70fd6ade",
            "16da67e4091b48bfa61add86233d7aba",
            "497bd74277ef4e54b3418a96db47e249",
            "c8d833540ed049639589814f3e18ebf4",
            "87b2c0303c254d67a85ee17142af71b9",
            "e40c51f598d24c42be63e839aaf7eb40",
            "c246a673bcc84a22a44079e7c117576a",
            "2c2cba105d294d50b8e97e3dbd77aadf",
            "30aa56521d8b4b249f23dde88e712e03",
            "334a8546d7d94637803603cd705cad93",
            "8d82b001f8e540ceba2bc5aa3d5629d9",
            "6ef2c682f34e4cfd8cf6fccb86a756ce",
            "d9ea0da261e840169f161cd68e8ab7b7",
            "b0033a51c9264daeadad049418fc09e5",
            "62a678f9b546485388e889447be733ab",
            "7b8953186b22460bb83b9c35cf191880",
            "bc9955bed7464a8f9776ecd527eae8eb",
            "11f04430e5ba472ea77750a61733f036",
            "24d24c4454914367ab04a3bae6444402",
            "86bd23c75a9f4ba09aeb737327039b0c",
            "ed2c5a27ac2c44448bd65978037f94bf",
            "baa4596f9fed4324ae5f7e93de85357a",
            "7feb27c60a9c46b39ba154726c0c6d16",
            "b74cdb05390c46f6960e1da323dd3b70",
            "72a89354128d4efc97b2019a8befddd2",
            "ef2e4348e7544de281951dda0ea6d1d3",
            "d7f54ee8ddf644f0a990c7002c356d41",
            "fb6e20e486b6437d8203257e3e926122",
            "bbe07debefd64dbe95fb94c1ac96aebe",
            "2a40bc5343c4465aa4728114522b8071",
            "3ea1bb7cdf8c487faf79e87adccccef7",
            "4ff9128dbcb941598b76a4a9e093b740",
            "3cf67d5504d844f787d616ccff186b32",
            "fa175405966e42d8be10cdc81877b6a5",
            "672d33f712f14470937bac751d9b9d3c",
            "8181b31aabc04acdab0b8a68a45a7dcd",
            "783d8667ba014ca8b419f39c7cf1d63d",
            "f5a4d6510f8543159b9767a7ffd12e74",
            "8a6ffb2265434f5ea107bfe79227b2f2",
            "2f4db3973b604782aa1f510028c99463",
            "2e44f81bae984438b7813f3b14839455",
            "37a4595b0ae84c03bc0f2a1c99e5ecc9",
            "2ffb7641dc544192ba23e1f957798857",
            "544e0b073bfc426d8a8f6180eac00029",
            "8207d05eafa84e4c829d863a0fd44eb6",
            "d9969f1c0ef749e6984135e6c888ef66",
            "d2f1ac2af16a49808b6f26bbb7bc4188",
            "7b144d64635b4885a768f575a33d8da1",
            "03dd73e588ef4ffb937d930bbb238c5c",
            "8d004a4f175544d3b3d84939fce3d1d3",
            "7c26d2963dbb4e3d90e6383a2abd6b3f",
            "c412caeee2b14687b2b15d4285fa2987",
            "11e4155224384357bdab54549f546c61",
            "50cff2eaab9c4c1d9b4412f92b067d85",
            "19ce878fe94a42f5ac9f61e783df136f",
            "01d2e30404f644ac8b54bda301f5f3cb",
            "ce0a4f4cf1f84f849f9244f7ba5d57f0",
            "62b4b7a138c94488bb6d0ec804537b18",
            "6568257303524c3f9090d29880617345",
            "c506b42d21204f489e7d34bd68a32ad6",
            "d01af3ecf6fe4799966ebdd6b547ef8c",
            "c464011075ce42de89505f7d38c3690f",
            "ffd29dbfe093462d80703a8a0fb5dddb",
            "219c2dbf386f4c428e22a1a548c9627c",
            "0a6e5f4b6dee468282b7f950a1fda65a",
            "81ddc618e02642ebbba3768b91a4d3db",
            "bc3d04c5da324b4b9bc8f437e891eda0",
            "40c9f1f17f35461084158a4d52af812f",
            "7b5fc415472b485d9acc3775c66dfd7f",
            "1048e132577745fa9086a8331e69b955",
            "5d927b97b7b246d3b4183d04af421828",
            "380a11dbb37e4570b9a619632d73155e",
            "48ec623d88144bf3b45273702c331320",
            "032bb604087b4d4f8992c166436d1421",
            "7fd6e05d8c5e4883b0e06e1f9f11c996",
            "9003adfe42b94d8a8507055d05a3b670",
            "6f325a2fe6e54e6b8027923bca19ca9c",
            "0f8a158462d6429fa2b80837fa318758",
            "9a4390757a5a4f79855be78cab23a3b8",
            "f1464fe2bb694950b12474bcb75a3363",
            "027944a766a1460b9880b005c3411685",
            "5f933a106e9d4b6d930b8c36d6b2d8c5",
            "fee18b0cb5964aebac9d04ad43a24185",
            "4c4ecf876c77415d8f7796b7b4e18fc4",
            "cafee62cb9364a5883298523f4a06b41",
            "6bdeb2750a1b487eafaf342ccff9648c",
            "bfb225501ca7453ba7d4b599f31c20b4",
            "4c0b11c1683b48aa90e7c5d7abf7c4e3",
            "c1154891e235442cb7987ef7fbeddb18",
            "bbdcbaa07a8c4943acb966f328dee104",
            "95044161faeb496994572a7229859914",
            "4bf179777fa34852a79b278948e18028",
            "add60cd544cc44cd934e547a74b5978e",
            "4750c3f911a14725a6023cd467973916",
            "2ec200fd0f034e9785fdabbf01d856d2",
            "7fc4497445b54015becf551912197056",
            "77bf8e0832414a61a138987180ad7146",
            "6f8c1bfe54234f64b84e3ab872b96d58",
            "d5e3df3cbbbc4a81b688c2ab07f55b1c",
            "cf2c3d48b21049c590856d12b3391ef9",
            "79b26e03b1f24940a38aa19a77fb5188",
            "1d26ecca3b7346ce86ef0ab1ca0978c8",
            "cf179fe046744b7a9f72b7ea72bff5dc",
            "f101e07aacac42aab4563f2c89bb9b4e",
            "b25235ee47494060b92b8f87606d8d4c",
            "3d4fc76a42f841759272e1f8b97d07aa",
            "a8c53f7de3a94039ab470270bd2f2b68",
            "4a1f9cd1c35f4fa0aebb0c0391c786a0",
            "25fd820107e949778db7fea56f61ea49",
            "be48ab0c3db14c0b8be778e872810947",
            "1c0f04d7e85745819dbb057fade26487",
            "a78367fcba284f139b97db0563152395",
            "c21ea5c9fc4044de99904f30a7e840ec",
            "4a54aeff367142a2934540e0c6eafa1f",
            "697e107f96e44f94a045f366587a172f",
            "bbfc1e0cf407442196a2cb91ee14485b",
            "be4b1201a4344a998f3104f4550cf200",
            "4745dc2e979b48aa8e32f8389d012ba2",
            "e95e0541d849481d9b01977a123122c4",
            "48bdb609f98947069780dc043d8d86e0",
            "b16458b9014d4f8da97f2813714bf023",
            "23342cff52874f4f89af7b08a0638977"
          ]
        },
        "id": "8bRlSFVtWvm0",
        "outputId": "3ccf116c-42cd-457d-9e7a-2773149ba954"
      },
      "outputs": [
        {
          "name": "stdout",
          "output_type": "stream",
          "text": [
            "\u001b[2K   \u001b[90m━━━━━━━━━━━━━━━━━━━━━━━━━━━━━━━━━━━━━━━━\u001b[0m \u001b[32m363.4/363.4 MB\u001b[0m \u001b[31m4.0 MB/s\u001b[0m eta \u001b[36m0:00:00\u001b[0m\n",
            "\u001b[2K   \u001b[90m━━━━━━━━━━━━━━━━━━━━━━━━━━━━━━━━━━━━━━━━\u001b[0m \u001b[32m13.8/13.8 MB\u001b[0m \u001b[31m49.2 MB/s\u001b[0m eta \u001b[36m0:00:00\u001b[0m\n",
            "\u001b[2K   \u001b[90m━━━━━━━━━━━━━━━━━━━━━━━━━━━━━━━━━━━━━━━━\u001b[0m \u001b[32m24.6/24.6 MB\u001b[0m \u001b[31m38.6 MB/s\u001b[0m eta \u001b[36m0:00:00\u001b[0m\n",
            "\u001b[2K   \u001b[90m━━━━━━━━━━━━━━━━━━━━━━━━━━━━━━━━━━━━━━━━\u001b[0m \u001b[32m883.7/883.7 kB\u001b[0m \u001b[31m23.8 MB/s\u001b[0m eta \u001b[36m0:00:00\u001b[0m\n",
            "\u001b[2K   \u001b[90m━━━━━━━━━━━━━━━━━━━━━━━━━━━━━━━━━━━━━━━━\u001b[0m \u001b[32m664.8/664.8 MB\u001b[0m \u001b[31m2.1 MB/s\u001b[0m eta \u001b[36m0:00:00\u001b[0m\n",
            "\u001b[2K   \u001b[90m━━━━━━━━━━━━━━━━━━━━━━━━━━━━━━━━━━━━━━━━\u001b[0m \u001b[32m211.5/211.5 MB\u001b[0m \u001b[31m5.2 MB/s\u001b[0m eta \u001b[36m0:00:00\u001b[0m\n",
            "\u001b[2K   \u001b[90m━━━━━━━━━━━━━━━━━━━━━━━━━━━━━━━━━━━━━━━━\u001b[0m \u001b[32m56.3/56.3 MB\u001b[0m \u001b[31m9.5 MB/s\u001b[0m eta \u001b[36m0:00:00\u001b[0m\n",
            "\u001b[2K   \u001b[90m━━━━━━━━━━━━━━━━━━━━━━━━━━━━━━━━━━━━━━━━\u001b[0m \u001b[32m127.9/127.9 MB\u001b[0m \u001b[31m8.4 MB/s\u001b[0m eta \u001b[36m0:00:00\u001b[0m\n",
            "\u001b[2K   \u001b[90m━━━━━━━━━━━━━━━━━━━━━━━━━━━━━━━━━━━━━━━━\u001b[0m \u001b[32m207.5/207.5 MB\u001b[0m \u001b[31m5.2 MB/s\u001b[0m eta \u001b[36m0:00:00\u001b[0m\n",
            "\u001b[2K   \u001b[90m━━━━━━━━━━━━━━━━━━━━━━━━━━━━━━━━━━━━━━━━\u001b[0m \u001b[32m21.1/21.1 MB\u001b[0m \u001b[31m53.6 MB/s\u001b[0m eta \u001b[36m0:00:00\u001b[0m\n",
            "\u001b[?25hLoading dataset...\n"
          ]
        },
        {
          "name": "stderr",
          "output_type": "stream",
          "text": [
            "/usr/local/lib/python3.11/dist-packages/huggingface_hub/utils/_auth.py:94: UserWarning: \n",
            "The secret `HF_TOKEN` does not exist in your Colab secrets.\n",
            "To authenticate with the Hugging Face Hub, create a token in your settings tab (https://huggingface.co/settings/tokens), set it as secret in your Google Colab and restart your session.\n",
            "You will be able to reuse this secret in all of your notebooks.\n",
            "Please note that authentication is recommended but still optional to access public models or datasets.\n",
            "  warnings.warn(\n"
          ]
        },
        {
          "data": {
            "application/vnd.jupyter.widget-view+json": {
              "model_id": "c88815c83e3045899f88855a0bdc591f",
              "version_major": 2,
              "version_minor": 0
            },
            "text/plain": [
              "README.md: 0.00B [00:00, ?B/s]"
            ]
          },
          "metadata": {},
          "output_type": "display_data"
        },
        {
          "data": {
            "application/vnd.jupyter.widget-view+json": {
              "model_id": "efb577b875c9415d89dba3c45636ffe2",
              "version_major": 2,
              "version_minor": 0
            },
            "text/plain": [
              "train-00000-of-00004.parquet:   0%|          | 0.00/92.8M [00:00<?, ?B/s]"
            ]
          },
          "metadata": {},
          "output_type": "display_data"
        },
        {
          "data": {
            "application/vnd.jupyter.widget-view+json": {
              "model_id": "f07b6aa408c9495ca9f2c9fdea81a1af",
              "version_major": 2,
              "version_minor": 0
            },
            "text/plain": [
              "train-00001-of-00004.parquet:   0%|          | 0.00/107M [00:00<?, ?B/s]"
            ]
          },
          "metadata": {},
          "output_type": "display_data"
        },
        {
          "data": {
            "application/vnd.jupyter.widget-view+json": {
              "model_id": "b739ef29e4a54530acb03441e475a525",
              "version_major": 2,
              "version_minor": 0
            },
            "text/plain": [
              "train-00002-of-00004.parquet:   0%|          | 0.00/108M [00:00<?, ?B/s]"
            ]
          },
          "metadata": {},
          "output_type": "display_data"
        },
        {
          "data": {
            "application/vnd.jupyter.widget-view+json": {
              "model_id": "23ab65938e1d4ce78c77901643951fef",
              "version_major": 2,
              "version_minor": 0
            },
            "text/plain": [
              "train-00003-of-00004.parquet:   0%|          | 0.00/107M [00:00<?, ?B/s]"
            ]
          },
          "metadata": {},
          "output_type": "display_data"
        },
        {
          "data": {
            "application/vnd.jupyter.widget-view+json": {
              "model_id": "e67c15067d0c44a0b92c38ea98feb758",
              "version_major": 2,
              "version_minor": 0
            },
            "text/plain": [
              "Generating train split:   0%|          | 0/2522362 [00:00<?, ? examples/s]"
            ]
          },
          "metadata": {},
          "output_type": "display_data"
        },
        {
          "data": {
            "application/vnd.jupyter.widget-view+json": {
              "model_id": "527832481ac6412a9ad47fc2c724a552",
              "version_major": 2,
              "version_minor": 0
            },
            "text/plain": [
              "modules.json:   0%|          | 0.00/229 [00:00<?, ?B/s]"
            ]
          },
          "metadata": {},
          "output_type": "display_data"
        },
        {
          "data": {
            "application/vnd.jupyter.widget-view+json": {
              "model_id": "16da67e4091b48bfa61add86233d7aba",
              "version_major": 2,
              "version_minor": 0
            },
            "text/plain": [
              "config_sentence_transformers.json:   0%|          | 0.00/122 [00:00<?, ?B/s]"
            ]
          },
          "metadata": {},
          "output_type": "display_data"
        },
        {
          "data": {
            "application/vnd.jupyter.widget-view+json": {
              "model_id": "d9ea0da261e840169f161cd68e8ab7b7",
              "version_major": 2,
              "version_minor": 0
            },
            "text/plain": [
              "README.md: 0.00B [00:00, ?B/s]"
            ]
          },
          "metadata": {},
          "output_type": "display_data"
        },
        {
          "data": {
            "application/vnd.jupyter.widget-view+json": {
              "model_id": "b74cdb05390c46f6960e1da323dd3b70",
              "version_major": 2,
              "version_minor": 0
            },
            "text/plain": [
              "sentence_bert_config.json:   0%|          | 0.00/53.0 [00:00<?, ?B/s]"
            ]
          },
          "metadata": {},
          "output_type": "display_data"
        },
        {
          "data": {
            "application/vnd.jupyter.widget-view+json": {
              "model_id": "672d33f712f14470937bac751d9b9d3c",
              "version_major": 2,
              "version_minor": 0
            },
            "text/plain": [
              "config.json:   0%|          | 0.00/629 [00:00<?, ?B/s]"
            ]
          },
          "metadata": {},
          "output_type": "display_data"
        },
        {
          "data": {
            "application/vnd.jupyter.widget-view+json": {
              "model_id": "d9969f1c0ef749e6984135e6c888ef66",
              "version_major": 2,
              "version_minor": 0
            },
            "text/plain": [
              "model.safetensors:   0%|          | 0.00/69.6M [00:00<?, ?B/s]"
            ]
          },
          "metadata": {},
          "output_type": "display_data"
        },
        {
          "data": {
            "application/vnd.jupyter.widget-view+json": {
              "model_id": "ce0a4f4cf1f84f849f9244f7ba5d57f0",
              "version_major": 2,
              "version_minor": 0
            },
            "text/plain": [
              "tokenizer_config.json:   0%|          | 0.00/314 [00:00<?, ?B/s]"
            ]
          },
          "metadata": {},
          "output_type": "display_data"
        },
        {
          "data": {
            "application/vnd.jupyter.widget-view+json": {
              "model_id": "40c9f1f17f35461084158a4d52af812f",
              "version_major": 2,
              "version_minor": 0
            },
            "text/plain": [
              "vocab.txt: 0.00B [00:00, ?B/s]"
            ]
          },
          "metadata": {},
          "output_type": "display_data"
        },
        {
          "data": {
            "application/vnd.jupyter.widget-view+json": {
              "model_id": "9a4390757a5a4f79855be78cab23a3b8",
              "version_major": 2,
              "version_minor": 0
            },
            "text/plain": [
              "tokenizer.json: 0.00B [00:00, ?B/s]"
            ]
          },
          "metadata": {},
          "output_type": "display_data"
        },
        {
          "data": {
            "application/vnd.jupyter.widget-view+json": {
              "model_id": "bbdcbaa07a8c4943acb966f328dee104",
              "version_major": 2,
              "version_minor": 0
            },
            "text/plain": [
              "special_tokens_map.json:   0%|          | 0.00/112 [00:00<?, ?B/s]"
            ]
          },
          "metadata": {},
          "output_type": "display_data"
        },
        {
          "data": {
            "application/vnd.jupyter.widget-view+json": {
              "model_id": "79b26e03b1f24940a38aa19a77fb5188",
              "version_major": 2,
              "version_minor": 0
            },
            "text/plain": [
              "config.json:   0%|          | 0.00/190 [00:00<?, ?B/s]"
            ]
          },
          "metadata": {},
          "output_type": "display_data"
        },
        {
          "data": {
            "application/vnd.jupyter.widget-view+json": {
              "model_id": "a78367fcba284f139b97db0563152395",
              "version_major": 2,
              "version_minor": 0
            },
            "text/plain": [
              "Batches:   0%|          | 0/1250 [00:00<?, ?it/s]"
            ]
          },
          "metadata": {},
          "output_type": "display_data"
        },
        {
          "name": "stderr",
          "output_type": "stream",
          "text": [
            "/usr/local/lib/python3.11/dist-packages/torch/nn/modules/module.py:1750: FutureWarning: `encoder_attention_mask` is deprecated and will be removed in version 4.55.0 for `BertSdpaSelfAttention.forward`.\n",
            "  return forward_call(*args, **kwargs)\n",
            "/usr/local/lib/python3.11/dist-packages/sklearn/neural_network/_multilayer_perceptron.py:691: ConvergenceWarning: Stochastic Optimizer: Maximum iterations (10) reached and the optimization hasn't converged yet.\n",
            "  warnings.warn(\n",
            "/usr/local/lib/python3.11/dist-packages/xgboost/training.py:183: UserWarning: [09:30:40] WARNING: /workspace/src/learner.cc:738: \n",
            "Parameters: { \"use_label_encoder\" } are not used.\n",
            "\n",
            "  bst.update(dtrain, iteration=i, fobj=obj)\n"
          ]
        },
        {
          "name": "stdout",
          "output_type": "stream",
          "text": [
            "Noise 0.00 → Accuracy: 0.9918\n"
          ]
        },
        {
          "name": "stderr",
          "output_type": "stream",
          "text": [
            "/usr/local/lib/python3.11/dist-packages/sklearn/neural_network/_multilayer_perceptron.py:691: ConvergenceWarning: Stochastic Optimizer: Maximum iterations (10) reached and the optimization hasn't converged yet.\n",
            "  warnings.warn(\n",
            "/usr/local/lib/python3.11/dist-packages/xgboost/training.py:183: UserWarning: [09:30:41] WARNING: /workspace/src/learner.cc:738: \n",
            "Parameters: { \"use_label_encoder\" } are not used.\n",
            "\n",
            "  bst.update(dtrain, iteration=i, fobj=obj)\n"
          ]
        },
        {
          "name": "stdout",
          "output_type": "stream",
          "text": [
            "Noise 0.02 → Accuracy: 0.9675\n"
          ]
        },
        {
          "name": "stderr",
          "output_type": "stream",
          "text": [
            "/usr/local/lib/python3.11/dist-packages/sklearn/neural_network/_multilayer_perceptron.py:691: ConvergenceWarning: Stochastic Optimizer: Maximum iterations (10) reached and the optimization hasn't converged yet.\n",
            "  warnings.warn(\n",
            "/usr/local/lib/python3.11/dist-packages/xgboost/training.py:183: UserWarning: [09:30:43] WARNING: /workspace/src/learner.cc:738: \n",
            "Parameters: { \"use_label_encoder\" } are not used.\n",
            "\n",
            "  bst.update(dtrain, iteration=i, fobj=obj)\n"
          ]
        },
        {
          "name": "stdout",
          "output_type": "stream",
          "text": [
            "Noise 0.04 → Accuracy: 0.9460\n"
          ]
        },
        {
          "name": "stderr",
          "output_type": "stream",
          "text": [
            "/usr/local/lib/python3.11/dist-packages/sklearn/neural_network/_multilayer_perceptron.py:691: ConvergenceWarning: Stochastic Optimizer: Maximum iterations (10) reached and the optimization hasn't converged yet.\n",
            "  warnings.warn(\n",
            "/usr/local/lib/python3.11/dist-packages/xgboost/training.py:183: UserWarning: [09:30:45] WARNING: /workspace/src/learner.cc:738: \n",
            "Parameters: { \"use_label_encoder\" } are not used.\n",
            "\n",
            "  bst.update(dtrain, iteration=i, fobj=obj)\n"
          ]
        },
        {
          "name": "stdout",
          "output_type": "stream",
          "text": [
            "Noise 0.06 → Accuracy: 0.9280\n"
          ]
        },
        {
          "name": "stderr",
          "output_type": "stream",
          "text": [
            "/usr/local/lib/python3.11/dist-packages/sklearn/neural_network/_multilayer_perceptron.py:691: ConvergenceWarning: Stochastic Optimizer: Maximum iterations (10) reached and the optimization hasn't converged yet.\n",
            "  warnings.warn(\n",
            "/usr/local/lib/python3.11/dist-packages/xgboost/training.py:183: UserWarning: [09:30:47] WARNING: /workspace/src/learner.cc:738: \n",
            "Parameters: { \"use_label_encoder\" } are not used.\n",
            "\n",
            "  bst.update(dtrain, iteration=i, fobj=obj)\n"
          ]
        },
        {
          "name": "stdout",
          "output_type": "stream",
          "text": [
            "Noise 0.08 → Accuracy: 0.9080\n"
          ]
        },
        {
          "name": "stderr",
          "output_type": "stream",
          "text": [
            "/usr/local/lib/python3.11/dist-packages/sklearn/neural_network/_multilayer_perceptron.py:691: ConvergenceWarning: Stochastic Optimizer: Maximum iterations (10) reached and the optimization hasn't converged yet.\n",
            "  warnings.warn(\n",
            "/usr/local/lib/python3.11/dist-packages/xgboost/training.py:183: UserWarning: [09:30:48] WARNING: /workspace/src/learner.cc:738: \n",
            "Parameters: { \"use_label_encoder\" } are not used.\n",
            "\n",
            "  bst.update(dtrain, iteration=i, fobj=obj)\n"
          ]
        },
        {
          "name": "stdout",
          "output_type": "stream",
          "text": [
            "Noise 0.10 → Accuracy: 0.8912\n"
          ]
        },
        {
          "data": {
            "image/png": "[encoded data removed]",
            "text/plain": [
              "<Figure size 800x500 with 1 Axes>"
            ]
          },
          "metadata": {},
          "output_type": "display_data"
        }
      ],
      "source": [
        "# ✅ STEP 1: Install Required Packages\n",
        "!pip install -q datasets sentence-transformers xgboost\n",
        "\n",
        "# ✅ STEP 2: Imports\n",
        "import pandas as pd\n",
        "import numpy as np\n",
        "import matplotlib.pyplot as plt\n",
        "import seaborn as sns\n",
        "import gc\n",
        "import random\n",
        "\n",
        "from datasets import load_dataset\n",
        "from sklearn.preprocessing import StandardScaler, LabelEncoder\n",
        "from sklearn.model_selection import train_test_split\n",
        "from sklearn.ensemble import RandomForestClassifier\n",
        "from sklearn.neural_network import MLPClassifier\n",
        "from xgboost import XGBClassifier\n",
        "from sklearn.linear_model import LogisticRegression\n",
        "from sklearn.metrics import accuracy_score, classification_report, confusion_matrix\n",
        "from sentence_transformers import SentenceTransformer\n",
        "from scipy.stats import mode\n",
        "\n",
        "# ✅ STEP 3: Load 20K Samples from Dataset\n",
        "print(\"Loading dataset...\")\n",
        "dataset = load_dataset(\"sonnh-tech1/cic-ids-2017\", \"binary\", split=\"train[:20000]\")\n",
        "df = dataset.to_pandas()\n",
        "df.dropna(inplace=True)\n",
        "\n",
        "# ✅ STEP 4: Prepare Features\n",
        "numeric_df = df.select_dtypes(include=[np.number])\n",
        "if 'Label' not in numeric_df.columns and 'Label' in df.columns:\n",
        "    numeric_df['Label'] = df['Label']\n",
        "\n",
        "X = numeric_df.drop(columns=['Label'], errors='ignore')\n",
        "y = LabelEncoder().fit_transform(numeric_df['Label'])\n",
        "\n",
        "# ✅ STEP 5: Scale Data and Embed for SLM\n",
        "scaler = StandardScaler()\n",
        "X_scaled = scaler.fit_transform(X)\n",
        "text_data = pd.DataFrame(X_scaled).astype(str).agg(' '.join, axis=1).tolist()\n",
        "\n",
        "model_slm = SentenceTransformer('paraphrase-MiniLM-L3-v2')\n",
        "X_embed = model_slm.encode(text_data, batch_size=16, convert_to_numpy=True, show_progress_bar=True)\n",
        "\n",
        "# ✅ STEP 6: Train/Test Split\n",
        "X_train, X_test, y_train, y_test = train_test_split(X_scaled, y, test_size=0.2, stratify=y, random_state=42)\n",
        "X_train_s, X_test_s, y_train_s, y_test_s = train_test_split(X_embed, y, test_size=0.2, stratify=y, random_state=42)\n",
        "\n",
        "# ✅ STEP 7: Flip Label Function\n",
        "def flip_labels(y, noise_level):\n",
        "    y_noisy = y.copy()\n",
        "    n = len(y)\n",
        "    flip_count = int(noise_level * n)\n",
        "    indices = np.random.choice(n, flip_count, replace=False)\n",
        "    for i in indices:\n",
        "        y_noisy[i] = 1 - y_noisy[i]\n",
        "    return y_noisy\n",
        "\n",
        "# ✅ STEP 8: Run for Multiple Noise Levels\n",
        "noise_levels = [0.00, 0.02, 0.04, 0.06, 0.08, 0.10]\n",
        "results = []\n",
        "\n",
        "for noise in noise_levels:\n",
        "    # Apply noise\n",
        "    y_train_noisy = flip_labels(y_train, noise)\n",
        "    y_train_s_noisy = flip_labels(y_train_s, noise)\n",
        "    y_test_noisy = flip_labels(y_test, noise)\n",
        "\n",
        "    # Train Models\n",
        "    rf = RandomForestClassifier(n_estimators=5, max_depth=2, min_samples_leaf=100, class_weight='balanced', random_state=42)\n",
        "    rf.fit(X_train, y_train_noisy)\n",
        "\n",
        "    ann = MLPClassifier(hidden_layer_sizes=(4,), max_iter=10, solver='adam', random_state=42)\n",
        "    ann.fit(X_train, y_train_noisy)\n",
        "\n",
        "    gb = XGBClassifier(n_estimators=2, max_depth=1, learning_rate=0.01, use_label_encoder=False, eval_metric='logloss', random_state=42)\n",
        "    gb.fit(X_train, y_train_noisy)\n",
        "\n",
        "    slm = LogisticRegression(max_iter=50, class_weight='balanced', C=0.01)\n",
        "    slm.fit(X_train_s, y_train_s_noisy)\n",
        "\n",
        "    # Predict and Fuse\n",
        "    rf_pred = rf.predict(X_test)\n",
        "    ann_pred = ann.predict(X_test)\n",
        "    gb_pred = gb.predict(X_test)\n",
        "    slm_pred = slm.predict(X_test_s)\n",
        "\n",
        "    all_preds = np.vstack([rf_pred, ann_pred, gb_pred, slm_pred])\n",
        "    fusion_pred, _ = mode(all_preds, axis=0)\n",
        "    fusion_pred = fusion_pred.flatten()\n",
        "\n",
        "    acc = accuracy_score(y_test_noisy, fusion_pred)\n",
        "    results.append((noise, acc))\n",
        "    print(f\"Noise {noise:.2f} → Accuracy: {acc:.4f}\")\n",
        "\n",
        "# ✅ STEP 9: Plot Accuracy vs Noise\n",
        "noise_vals, acc_vals = zip(*results)\n",
        "plt.figure(figsize=(8,5))\n",
        "plt.plot(noise_vals, acc_vals, marker='o', linestyle='-')\n",
        "plt.title(\"Accuracy vs Label Noise\")\n",
        "plt.xlabel(\"Label Noise (%)\")\n",
        "plt.ylabel(\"Accuracy\")\n",
        "plt.grid(True)\n",
        "plt.xticks(noise_levels)\n",
        "plt.ylim(0.85, 1.01)\n",
        "plt.show()\n"
      ]
    },
    {
      "cell_type": "code",
      "execution_count": null,
      "metadata": {
        "colab": {
          "base_uri": "https://localhost:8080/"
        },
        "id": "nqScbqUFbs1P",
        "outputId": "918631c3-07cc-44f5-c8ff-887e790dd55a"
      },
      "outputs": [
        {
          "name": "stdout",
          "output_type": "stream",
          "text": [
            "\n",
            "✅ Classification Report:\n",
            "               precision    recall  f1-score   support\n",
            "\n",
            "           0       0.89      0.99      0.94      3382\n",
            "           1       0.91      0.33      0.48       618\n",
            "\n",
            "    accuracy                           0.89      4000\n",
            "   macro avg       0.90      0.66      0.71      4000\n",
            "weighted avg       0.89      0.89      0.87      4000\n",
            "\n"
          ]
        }
      ],
      "source": [
        "print(\"\\n✅ Classification Report:\\n\", classification_report(y_test_noisy, fusion_pred))"
      ]
    },
    {
      "cell_type": "code",
      "execution_count": null,
      "metadata": {
        "colab": {
          "base_uri": "https://localhost:8080/",
          "height": 487
        },
        "id": "npQ2rTskb-Gn",
        "outputId": "527ba27f-7b52-4ff5-e609-31baaa1e20cf"
      },
      "outputs": [
        {
          "data": {
            "image/png": "[encoded data removed]",
            "text/plain": [
              "<Figure size 600x500 with 2 Axes>"
            ]
          },
          "metadata": {},
          "output_type": "display_data"
        }
      ],
      "source": [
        "# Confusion Matrix\n",
        "cm = confusion_matrix(y_test_noisy, fusion_pred)\n",
        "plt.figure(figsize=(6, 5))\n",
        "sns.heatmap(cm, annot=True, fmt='d', cmap='Blues')\n",
        "plt.title(\"Fusion Confusion Matrix with Train & Test Label Noise\")\n",
        "plt.xlabel(\"Predicted\")\n",
        "plt.ylabel(\"Actual\")\n",
        "plt.show()"
      ]
    }
  ],
  "metadata": {
    "colab": {
      "provenance": [],
      "include_colab_link": true
    },
    "kernelspec": {
      "display_name": "Python 3",
      "name": "python3"
    },
    "language_info": {
      "name": "python"
    }
  },
  "nbformat": 4,
  "nbformat_minor": 0
}