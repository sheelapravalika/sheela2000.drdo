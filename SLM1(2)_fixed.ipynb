{
  "cells": [
    {
      "cell_type": "markdown",
      "metadata": {
        "id": "view-in-github",
        "colab_type": "text"
      },
      "source": [
        "<a href=\"https://colab.research.google.com/github/sheelapravalika/sheela2000.drdo/blob/main/SLM1(2)_fixed.ipynb\" target=\"_parent\"><img src=\"https://colab.research.google.com/assets/colab-badge.svg\" alt=\"Open In Colab\"/></a>"
      ]
    },
    {
      "cell_type": "code",
      "execution_count": null,
      "metadata": {
        "colab": {
          "base_uri": "https://localhost:8080/"
        },
        "id": "sTHF_rvKCZDh",
        "outputId": "16c3bdd4-0dd0-41f0-a981-29290afbec68"
      },
      "outputs": [
        {
          "name": "stdout",
          "output_type": "stream",
          "text": [
            "\u001b[2K   \u001b[90m━━━━━━━━━━━━━━━━━━━━━━━━━━━━━━━━━━━━━━━━\u001b[0m \u001b[32m363.4/363.4 MB\u001b[0m \u001b[31m4.7 MB/s\u001b[0m eta \u001b[36m0:00:00\u001b[0m\n",
            "\u001b[2K   \u001b[90m━━━━━━━━━━━━━━━━━━━━━━━━━━━━━━━━━━━━━━━━\u001b[0m \u001b[32m13.8/13.8 MB\u001b[0m \u001b[31m36.7 MB/s\u001b[0m eta \u001b[36m0:00:00\u001b[0m\n",
            "\u001b[2K   \u001b[90m━━━━━━━━━━━━━━━━━━━━━━━━━━━━━━━━━━━━━━━━\u001b[0m \u001b[32m24.6/24.6 MB\u001b[0m \u001b[31m28.2 MB/s\u001b[0m eta \u001b[36m0:00:00\u001b[0m\n",
            "\u001b[2K   \u001b[90m━━━━━━━━━━━━━━━━━━━━━━━━━━━━━━━━━━━━━━━━\u001b[0m \u001b[32m883.7/883.7 kB\u001b[0m \u001b[31m17.9 MB/s\u001b[0m eta \u001b[36m0:00:00\u001b[0m\n",
            "\u001b[2K   \u001b[90m━━━━━━━━━━━━━━━━━━━━━━━━━━━━━━━━━━━━━━━━\u001b[0m \u001b[32m664.8/664.8 MB\u001b[0m \u001b[31m1.4 MB/s\u001b[0m eta \u001b[36m0:00:00\u001b[0m\n",
            "\u001b[2K   \u001b[90m━━━━━━━━━━━━━━━━━━━━━━━━━━━━━━━━━━━━━━━━\u001b[0m \u001b[32m211.5/211.5 MB\u001b[0m \u001b[31m6.9 MB/s\u001b[0m eta \u001b[36m0:00:00\u001b[0m\n",
            "\u001b[2K   \u001b[90m━━━━━━━━━━━━━━━━━━━━━━━━━━━━━━━━━━━━━━━━\u001b[0m \u001b[32m56.3/56.3 MB\u001b[0m \u001b[31m11.6 MB/s\u001b[0m eta \u001b[36m0:00:00\u001b[0m\n",
            "\u001b[2K   \u001b[90m━━━━━━━━━━━━━━━━━━━━━━━━━━━━━━━━━━━━━━━━\u001b[0m \u001b[32m127.9/127.9 MB\u001b[0m \u001b[31m7.2 MB/s\u001b[0m eta \u001b[36m0:00:00\u001b[0m\n",
            "\u001b[2K   \u001b[90m━━━━━━━━━━━━━━━━━━━━━━━━━━━━━━━━━━━━━━━━\u001b[0m \u001b[32m207.5/207.5 MB\u001b[0m \u001b[31m6.1 MB/s\u001b[0m eta \u001b[36m0:00:00\u001b[0m\n",
            "\u001b[2K   \u001b[90m━━━━━━━━━━━━━━━━━━━━━━━━━━━━━━━━━━━━━━━━\u001b[0m \u001b[32m21.1/21.1 MB\u001b[0m \u001b[31m95.0 MB/s\u001b[0m eta \u001b[36m0:00:00\u001b[0m\n",
            "\u001b[?25h"
          ]
        }
      ],
      "source": [
        "# ✅ Install Required Packages\n",
        "!pip install -q datasets sentence-transformers\n",
        "\n",
        "# ✅ Imports\n",
        "import pandas as pd\n",
        "import numpy as np\n",
        "from datasets import load_dataset\n",
        "from sklearn.preprocessing import StandardScaler, LabelEncoder\n",
        "from sklearn.model_selection import train_test_split\n",
        "from sklearn.linear_model import LogisticRegression\n",
        "from sklearn.metrics import classification_report, accuracy_score\n",
        "from sentence_transformers import SentenceTransformer, util\n",
        "import gc  # for cleanup\n"
      ]
    },
    {
      "cell_type": "code",
      "execution_count": null,
      "metadata": {
        "colab": {
          "base_uri": "https://localhost:8080/",
          "height": 1000,
          "referenced_widgets": [
            "bb26b5bf442f44afbd8b5169ca5e63af",
            "0f9977c113a94db0ac51d5f27b3377e0",
            "c6da9ecf73a04fe380a0df2e9fece0bc",
            "279c6dfb385a49fca6ff48197a854a21",
            "3a144881c9764c44ad098fd42a50013e",
            "23fc07105abd467a839ed6f5c2d56044",
            "a6e753205e5c4e39a5e4fbcff2742025",
            "cda5f2865b254bb0a83d1b5cedd1cb62",
            "b70ec0d5339040749da1b095542ef94e",
            "79e5652e47f340468b4df1b2540b8e5f",
            "e97422701ce2474ca0691ce6b52f3748",
            "4153f50b40d742db834f6d938312d974",
            "8a30e7aead5f46c8961eb1fa924aaa3e",
            "397b088dda38470c917432232dc0cb04",
            "31d0ca9119fd4e86b88982a9cb7c5f85",
            "1f278a06f96c477a890d579c1c059c1f",
            "c04315c5135f4f249c8320c75abb1b58",
            "6611b07ea8a841edaaf6a2ed46979704",
            "331ce499115547a0aea6c0114b23a995",
            "807bb43f54854644a9bfb68d3a09cc77",
            "42549b9131634c13a0a7262459533e53",
            "da863ab4c22f4e79b5f899b282b13788",
            "fd727fdd250143e1be5bfe64d826e15a",
            "6d28b4e2bcbc4dd6b0a82692bceab160",
            "ff2da2a7fbf44a639b0a67e0c62d7b19",
            "80c2ad6a610546f59890bf00ab08fbbd",
            "2a1152a76015485da7eb9e776ec93951",
            "236fc4e4f71d4870a2f6ac5ca0e737bd",
            "8b8c1062898e4b529df91318fb0647c5",
            "54798c89ada44a71af56c293435d227d",
            "4f10360c66d24de68509ff385d6b6c6f",
            "c449316adff849648b1f372cad0a1d0c",
            "e7b40dffab6242908e046f60073e86e1",
            "af84f587184b4b798a266169c4fe0fe9",
            "c8dbd388083040528502ad306ea28382",
            "811d2383f6aa4dda8dbe83c2d7715cfa",
            "2cd1978a8ce94a3bb450aeada3d74d6d",
            "336a3f882edc42d1872ed8ac942ec8bc",
            "5548fef3a4d740fa9cf549fcee62b6b8",
            "f99a9ba60e6841bc8bc0af3a18ac0bc3",
            "8bf1abc033d34801995fca9b24c91d20",
            "5acc1fadc746468fa289938595df3ddd",
            "a9f883c6b2634a86b4a9ea72e38fdaf7",
            "72f57c09ca1c415aa97c1de6a0303935",
            "810e493d8cfe4a1591f9a370e7007883",
            "93a19fb94d4745f8a78fe2a48f74fb13",
            "2d43b9a82fa64ae1a5edb5c07323e184",
            "dadff8befa184bddaf9b5c324d8305a5",
            "91960a640d9044e782d41aea5116ab85",
            "47d924b873df4aeead9c1503e8613840",
            "6285f15aadb34dc0bdd90f607ed2f3f4",
            "3627d47c73fa4ed9930f4a53ffba3f38",
            "682cd05f0da945c1ad0e8de7c293bac5",
            "bbf5e4b23e0a4d8a8c78cf7ed239f615",
            "b45623b646d54cbd96d318151f71a722",
            "adc947b2d3d94ca9bc5deed435832791",
            "9d4eb53c58104aaf967529b0a626cc97",
            "95d9ad37190f415b8dbd98673f713598",
            "118cb09f61424a0a819e55867ffb98b8",
            "c099efb596f143018dcda2e16407fae8",
            "49e8a897d630446b89076c46a9c0dff9",
            "67f9213258cf41a481c22919d86075d6",
            "99cf258146104372b001b9867fa362b0",
            "5f8959aafde947f9873631c2047c5655",
            "53118531e3d14e189abb5cd5502cbf82",
            "d1992e056fd84d1d9bab79e909be8856"
          ]
        },
        "id": "l4aXxTmB9JMz",
        "outputId": "91ed38de-fa0f-4371-e1fd-9bfdbdf9eb6e"
      },
      "outputs": [
        {
          "name": "stderr",
          "output_type": "stream",
          "text": [
            "/usr/local/lib/python3.11/dist-packages/huggingface_hub/utils/_auth.py:94: UserWarning: \n",
            "The secret `HF_TOKEN` does not exist in your Colab secrets.\n",
            "To authenticate with the Hugging Face Hub, create a token in your settings tab (https://huggingface.co/settings/tokens), set it as secret in your Google Colab and restart your session.\n",
            "You will be able to reuse this secret in all of your notebooks.\n",
            "Please note that authentication is recommended but still optional to access public models or datasets.\n",
            "  warnings.warn(\n"
          ]
        },
        {
          "data": {
            "application/vnd.jupyter.widget-view+json": {
              "model_id": "bb26b5bf442f44afbd8b5169ca5e63af",
              "version_major": 2,
              "version_minor": 0
            },
            "text/plain": [
              "README.md: 0.00B [00:00, ?B/s]"
            ]
          },
          "metadata": {},
          "output_type": "display_data"
        },
        {
          "data": {
            "application/vnd.jupyter.widget-view+json": {
              "model_id": "4153f50b40d742db834f6d938312d974",
              "version_major": 2,
              "version_minor": 0
            },
            "text/plain": [
              "train-00000-of-00004.parquet:   0%|          | 0.00/92.8M [00:00<?, ?B/s]"
            ]
          },
          "metadata": {},
          "output_type": "display_data"
        },
        {
          "data": {
            "application/vnd.jupyter.widget-view+json": {
              "model_id": "fd727fdd250143e1be5bfe64d826e15a",
              "version_major": 2,
              "version_minor": 0
            },
            "text/plain": [
              "train-00001-of-00004.parquet:   0%|          | 0.00/107M [00:00<?, ?B/s]"
            ]
          },
          "metadata": {},
          "output_type": "display_data"
        },
        {
          "data": {
            "application/vnd.jupyter.widget-view+json": {
              "model_id": "af84f587184b4b798a266169c4fe0fe9",
              "version_major": 2,
              "version_minor": 0
            },
            "text/plain": [
              "train-00002-of-00004.parquet:   0%|          | 0.00/108M [00:00<?, ?B/s]"
            ]
          },
          "metadata": {},
          "output_type": "display_data"
        },
        {
          "data": {
            "application/vnd.jupyter.widget-view+json": {
              "model_id": "810e493d8cfe4a1591f9a370e7007883",
              "version_major": 2,
              "version_minor": 0
            },
            "text/plain": [
              "train-00003-of-00004.parquet:   0%|          | 0.00/107M [00:00<?, ?B/s]"
            ]
          },
          "metadata": {},
          "output_type": "display_data"
        },
        {
          "data": {
            "application/vnd.jupyter.widget-view+json": {
              "model_id": "adc947b2d3d94ca9bc5deed435832791",
              "version_major": 2,
              "version_minor": 0
            },
            "text/plain": [
              "Generating train split:   0%|          | 0/2522362 [00:00<?, ? examples/s]"
            ]
          },
          "metadata": {},
          "output_type": "display_data"
        },
        {
          "name": "stdout",
          "output_type": "stream",
          "text": [
            "         DestinationPort  FlowDuration  TotalFwdPackets  TotalBackwardPackets  \\\n",
            "0                  54865             3                2                     0   \n",
            "1                  55054           109                1                     1   \n",
            "2                  55055            52                1                     1   \n",
            "3                  46236            34                1                     1   \n",
            "4                  54863             3                2                     0   \n",
            "...                  ...           ...              ...                   ...   \n",
            "2522357               53         32215                4                     2   \n",
            "2522358               53           324                2                     2   \n",
            "2522359            58030            82                2                     1   \n",
            "2522360               53       1048635                6                     2   \n",
            "2522361               53         94939                4                     2   \n",
            "\n",
            "         TotalLengthofFwdPackets  TotalLengthofBwdPackets  FwdPacketLengthMax  \\\n",
            "0                             12                        0                   6   \n",
            "1                              6                        6                   6   \n",
            "2                              6                        6                   6   \n",
            "3                              6                        6                   6   \n",
            "4                             12                        0                   6   \n",
            "...                          ...                      ...                 ...   \n",
            "2522357                      112                      152                  28   \n",
            "2522358                       84                      362                  42   \n",
            "2522359                       31                        6                  31   \n",
            "2522360                      192                      256                  32   \n",
            "2522361                      188                      226                  47   \n",
            "\n",
            "         FwdPacketLengthMin  FwdPacketLengthMean  FwdPacketLengthStd  ...  \\\n",
            "0                         6                  6.0             0.00000  ...   \n",
            "1                         6                  6.0             0.00000  ...   \n",
            "2                         6                  6.0             0.00000  ...   \n",
            "3                         6                  6.0             0.00000  ...   \n",
            "4                         6                  6.0             0.00000  ...   \n",
            "...                     ...                  ...                 ...  ...   \n",
            "2522357                  28                 28.0             0.00000  ...   \n",
            "2522358                  42                 42.0             0.00000  ...   \n",
            "2522359                   0                 15.5            21.92031  ...   \n",
            "2522360                  32                 32.0             0.00000  ...   \n",
            "2522361                  47                 47.0             0.00000  ...   \n",
            "\n",
            "         ActiveMean  ActiveStd  ActiveMax  ActiveMin  IdleMean  IdleStd  \\\n",
            "0               0.0        0.0          0          0       0.0      0.0   \n",
            "1               0.0        0.0          0          0       0.0      0.0   \n",
            "2               0.0        0.0          0          0       0.0      0.0   \n",
            "3               0.0        0.0          0          0       0.0      0.0   \n",
            "4               0.0        0.0          0          0       0.0      0.0   \n",
            "...             ...        ...        ...        ...       ...      ...   \n",
            "2522357         0.0        0.0          0          0       0.0      0.0   \n",
            "2522358         0.0        0.0          0          0       0.0      0.0   \n",
            "2522359         0.0        0.0          0          0       0.0      0.0   \n",
            "2522360         0.0        0.0          0          0       0.0      0.0   \n",
            "2522361         0.0        0.0          0          0       0.0      0.0   \n",
            "\n",
            "         IdleMax  IdleMin   Label  LabelMap  \n",
            "0              0        0  BENIGN    BENIGN  \n",
            "1              0        0  BENIGN    BENIGN  \n",
            "2              0        0  BENIGN    BENIGN  \n",
            "3              0        0  BENIGN    BENIGN  \n",
            "4              0        0  BENIGN    BENIGN  \n",
            "...          ...      ...     ...       ...  \n",
            "2522357        0        0  BENIGN    BENIGN  \n",
            "2522358        0        0  BENIGN    BENIGN  \n",
            "2522359        0        0  BENIGN    BENIGN  \n",
            "2522360        0        0  BENIGN    BENIGN  \n",
            "2522361        0        0  BENIGN    BENIGN  \n",
            "\n",
            "[2522362 rows x 80 columns]\n"
          ]
        }
      ],
      "source": [
        "\n",
        "# ✅ STEP 2: Load CIC-IDS-2017 Dataset from Hugging Face (No CSV)\n",
        "dataset = load_dataset(\"sonnh-tech1/cic-ids-2017\", \"binary\")\n",
        "df = dataset[\"train\"].to_pandas()\n",
        "print(df)"
      ]
    },
    {
      "cell_type": "code",
      "execution_count": null,
      "metadata": {
        "id": "2aqEdzerChIh"
      },
      "outputs": [],
      "source": [
        "# ✅ Sample to avoid crashing (adjust if needed)\n",
        "df = df.sample(n=60000, random_state=42).reset_index(drop=True)\n",
        "\n",
        "# ✅ Preprocess\n",
        "df.dropna(inplace=True)\n",
        "numeric_df = df.select_dtypes(include=[np.number])\n",
        "if 'Label' not in numeric_df.columns and 'Label' in df.columns:\n",
        "    numeric_df['Label'] = df['Label']\n",
        "\n",
        "X = numeric_df.drop(columns=['Label'], errors='ignore')\n",
        "y = LabelEncoder().fit_transform(numeric_df['Label'])\n",
        "\n",
        "# ✅ Scale\n",
        "scaler = StandardScaler()\n",
        "X_scaled = scaler.fit_transform(X)\n"
      ]
    },
    {
      "cell_type": "code",
      "execution_count": null,
      "metadata": {
        "colab": {
          "base_uri": "https://localhost:8080/",
          "height": 369,
          "referenced_widgets": [
            "6d7b3cda032e4c22aaaf2458432004b0",
            "aeeb0a2fbe6d495e8cf9db09b8039b6d",
            "322c340f0f8c4030be2d1195208fed8f",
            "cfe75700f2ec4177830a05cc09be2357",
            "15b578f882a64e838ead4bdfdbc7ffc1",
            "938528b059894b79af3564bb74a41512",
            "f22372c9229041c9bc4834b42341b8d5",
            "c7d98ffe5be04865b029bec1d64446c6",
            "bf8d8c4bcc2c4721b8675860a0487ef4",
            "4511b8e8cbde4c8ba989ea3f6d77f599",
            "240c49e84f8b4726a65bb2492f528399",
            "608e257f566b4259ac5c603bbd2d0523",
            "eed5dc3f2a434dab816d1e8bee9fac25",
            "c7edb0b501f7460781c0aad978e69d31",
            "ca3915ea0bde4076bdd0dc5b88c63e27",
            "df8058ea3c0d4d2e91c7b784e455808e",
            "6840f90871c1405a8e66d52f0b4899d8",
            "1210913bf6b84bdbaa6357a392cc6c8b",
            "7d85c5be3bc542b2ab22a423cc5a504a",
            "d7964a918015489f8cf6f08d7bb3d13e",
            "b4c733270e8040bab9f565eaf2229b6f",
            "05c610a311224241a11bf60f0ed805c3",
            "bd5cf216173c4901a87a8967a7e1cbe7",
            "a7fa285fc67448a28de4ca6aa9ab4ce4",
            "80d421b0f9ed4dd5bc543f8ba98dc182",
            "7b9db4085c7a4c72a55db61ac0133caa",
            "1a9e597c19ce460dbbe6c70977bcb114",
            "d1da56d446874798ba65d7903077b9d0",
            "386cc717a16d4271a712e5c2082be914",
            "a323a6de87e54f0b948dbf7088b418d5",
            "0df01261fc1b4ff88cde738a769392ab",
            "eb32331b72cb40b0a1b18e00ad699dd9",
            "e21465c4061a4d7dbdb96526f7f063d8",
            "54f30ab6537d4456885a064def4763d1",
            "09271159c9264197907faff73b31279e",
            "fbabb05eccd441e09c22d828e73aebf3",
            "a1dc20ca98764ad7bfadd4591b50e6bd",
            "97741500157a4c8fb3b39bdf86ee819d",
            "98b465d15fa54e5986079e09d4400737",
            "26defedb183a41e2b505991d74dfc47a",
            "246173f33fe947e2b6f6b5a0fa2e2713",
            "0d4b61b514b041c58bfe4309f2772216",
            "f2be20979c6a414b9068d6b31af6f4ad",
            "bd1547c366a04ac6bd548a8a7482c328",
            "19957130cc5a4b6e82b5de843ac39f6e",
            "21a7d94b8ce441cf8a1c6381e2b73d10",
            "cdcbd7c2731142f1892dccc6e90eb0d9",
            "fd89d8afac244fceae47b148f2569233",
            "a63e71e416c548828fc53ed0023cf940",
            "7aa1c032e8db44a3bb5667897a68dc9c",
            "e5fed55f31f049d188825adb1118dfd1",
            "229a3c369af447fa98dfebeda5477818",
            "9fe65de13e054b18951ad2334b485de1",
            "0bc1d13533de402eab186af6bc6f592e",
            "510754c0be504f5fb10adab7dd0b5dea",
            "482fd0d2ccee4268b11b4112f0fc81f0",
            "75aa8e19286348e9af79ecf2e4f84596",
            "8f258f83eb244d489924358670029eff",
            "7e749bbb9f33470fa03380397916711f",
            "bdec16cbfaaa42c9b6b4813dfcaa456a",
            "54425ffac52543ecb37a8c2d895f6fcc",
            "4a77ffb07bb34064939a1a50c834f15c",
            "322133429c234c3a9c00a3a5177e038b",
            "1ac4ecb314534047a9ebc56c25f1639b",
            "1849c5b2f6f946a7b929284e43caf420",
            "35da8fe084294b4dba3103e1f4ac19b4",
            "88580d78bafc43afa7226688bd2da72a",
            "f81262cfe1894ef8917cd5dc977bf63d",
            "d2459d7638d94ae8aa751462a86af3b5",
            "7c0677b20be74f09bd182270a2f39a41",
            "3ce54878454b49078cc1d2f8e06d1094",
            "f76168bef71c4ee3b1fb583dff83e08e",
            "bdafe77be3e54b5a8a704f1429d76059",
            "57ac81ea0f6647f997e3e775c256b4ef",
            "2f50d856f3c0449397a4961e0a29bf97",
            "2ddcfe2bf7914fa0a33a969f880fec12",
            "22542785bc1f45c6968ad0b55e924bf7",
            "1f530cf41dcd4adc9b5889c2deeaaee1",
            "63c086054b794c01add76ca90427026d",
            "31f4077070c54b2db15ee38d21ab63fc",
            "8d0b45588b64469b98469736220f0bff",
            "e30b69e9321545149a421f99e24cbc14",
            "aa39e9ebe109489685fac96ab42d474a",
            "e48e6363a2154b5984b36f3b7b10181a",
            "68a9619e4c2d4f63aab07a3a44a834b2",
            "ffb10f119f1f496c9ebf301f513ca235",
            "dace28477eb84fdebd5f85f8878e374d",
            "4acbdbb5b602469aa58427bb9f275bf2",
            "bb39045e1d094e3bb20662ef863c55db",
            "e5f9e9cf24734c0388d09002871fc08c",
            "8d518eef92bd44c88b5cf15d2a3c3a19",
            "31a46e1ece2d4887b8ff38747e7128b1",
            "b94aed1b8cf24d8e87935fff9e65f423",
            "02385d00919648b0bc4dd762e97ceae8",
            "d5154e509804436a9004f46c132b5a2c",
            "758de6af56de4d99833d024057424ba4",
            "ecd36d93ece94c8c894966382cc76bf1",
            "e1998f971f9042b59505ce5a50cb38ec",
            "bf1d3d867642480ca5d529a5dfe83a6a",
            "c891b4404a7f493da0e5132f21a63435",
            "6056c3361d374a799a192ffc95a50254",
            "c4279f6aa8724c4b8352c0e3ecf80cc5",
            "05221f637ce74bfaae25f2ef57f3cb2e",
            "9afa5a77b747442faa3c3e19e0cc7420",
            "d20161a89c634d2088665e11393a3eb6",
            "b0f0bdd57aed41c885e76f61c141a6eb",
            "e7f8057c4bdb421580ea602d61965275",
            "518eb784e88347cba6136694799068e8",
            "b38736142e004cbaa659151b927825bd",
            "a957fecb1bc24eea80cd99a19a957e88",
            "6c7820cce01d447abea6e6382dd8a2e5",
            "a9245c2c999e463a84ecbaec51e26c00",
            "86ee2e9cdfe440d983cc32cc581e99b0",
            "3a8f86ec9bc04b299e79e4ca5bb38f06",
            "d506291f1ecf4275bb9b9d4c3f825c8a",
            "0e7ed4a4284c4fab961037b612891962",
            "e3de9ae54f8d48d3a38d87da5e9f18d9",
            "61ebb732b68a4f659e72fef7081ad592",
            "9315ba6f6d5d4d309a3df8aaeed7d54b",
            "85063bd94e4a439faf3acbde01fd1aa4",
            "846ef0f2123b40d4a3ceade575ca2b23"
          ]
        },
        "id": "zCJSDpGoCtJU",
        "outputId": "ed89c8e3-234f-4ec4-8534-a8232345bce2"
      },
      "outputs": [
        {
          "data": {
            "application/vnd.jupyter.widget-view+json": {
              "model_id": "6d7b3cda032e4c22aaaf2458432004b0",
              "version_major": 2,
              "version_minor": 0
            },
            "text/plain": [
              "modules.json:   0%|          | 0.00/229 [00:00<?, ?B/s]"
            ]
          },
          "metadata": {},
          "output_type": "display_data"
        },
        {
          "data": {
            "application/vnd.jupyter.widget-view+json": {
              "model_id": "608e257f566b4259ac5c603bbd2d0523",
              "version_major": 2,
              "version_minor": 0
            },
            "text/plain": [
              "config_sentence_transformers.json:   0%|          | 0.00/122 [00:00<?, ?B/s]"
            ]
          },
          "metadata": {},
          "output_type": "display_data"
        },
        {
          "data": {
            "application/vnd.jupyter.widget-view+json": {
              "model_id": "bd5cf216173c4901a87a8967a7e1cbe7",
              "version_major": 2,
              "version_minor": 0
            },
            "text/plain": [
              "README.md: 0.00B [00:00, ?B/s]"
            ]
          },
          "metadata": {},
          "output_type": "display_data"
        },
        {
          "data": {
            "application/vnd.jupyter.widget-view+json": {
              "model_id": "54f30ab6537d4456885a064def4763d1",
              "version_major": 2,
              "version_minor": 0
            },
            "text/plain": [
              "sentence_bert_config.json:   0%|          | 0.00/53.0 [00:00<?, ?B/s]"
            ]
          },
          "metadata": {},
          "output_type": "display_data"
        },
        {
          "data": {
            "application/vnd.jupyter.widget-view+json": {
              "model_id": "19957130cc5a4b6e82b5de843ac39f6e",
              "version_major": 2,
              "version_minor": 0
            },
            "text/plain": [
              "config.json:   0%|          | 0.00/629 [00:00<?, ?B/s]"
            ]
          },
          "metadata": {},
          "output_type": "display_data"
        },
        {
          "data": {
            "application/vnd.jupyter.widget-view+json": {
              "model_id": "482fd0d2ccee4268b11b4112f0fc81f0",
              "version_major": 2,
              "version_minor": 0
            },
            "text/plain": [
              "model.safetensors:   0%|          | 0.00/69.6M [00:00<?, ?B/s]"
            ]
          },
          "metadata": {},
          "output_type": "display_data"
        },
        {
          "data": {
            "application/vnd.jupyter.widget-view+json": {
              "model_id": "88580d78bafc43afa7226688bd2da72a",
              "version_major": 2,
              "version_minor": 0
            },
            "text/plain": [
              "tokenizer_config.json:   0%|          | 0.00/314 [00:00<?, ?B/s]"
            ]
          },
          "metadata": {},
          "output_type": "display_data"
        },
        {
          "data": {
            "application/vnd.jupyter.widget-view+json": {
              "model_id": "1f530cf41dcd4adc9b5889c2deeaaee1",
              "version_major": 2,
              "version_minor": 0
            },
            "text/plain": [
              "vocab.txt: 0.00B [00:00, ?B/s]"
            ]
          },
          "metadata": {},
          "output_type": "display_data"
        },
        {
          "data": {
            "application/vnd.jupyter.widget-view+json": {
              "model_id": "bb39045e1d094e3bb20662ef863c55db",
              "version_major": 2,
              "version_minor": 0
            },
            "text/plain": [
              "tokenizer.json: 0.00B [00:00, ?B/s]"
            ]
          },
          "metadata": {},
          "output_type": "display_data"
        },
        {
          "data": {
            "application/vnd.jupyter.widget-view+json": {
              "model_id": "c891b4404a7f493da0e5132f21a63435",
              "version_major": 2,
              "version_minor": 0
            },
            "text/plain": [
              "special_tokens_map.json:   0%|          | 0.00/112 [00:00<?, ?B/s]"
            ]
          },
          "metadata": {},
          "output_type": "display_data"
        },
        {
          "data": {
            "application/vnd.jupyter.widget-view+json": {
              "model_id": "6c7820cce01d447abea6e6382dd8a2e5",
              "version_major": 2,
              "version_minor": 0
            },
            "text/plain": [
              "config.json:   0%|          | 0.00/190 [00:00<?, ?B/s]"
            ]
          },
          "metadata": {},
          "output_type": "display_data"
        }
      ],
      "source": [
        "# ✅ Convert to sentence-style text\n",
        "text_data = pd.DataFrame(X_scaled).astype(str).agg(' '.join, axis=1).tolist()\n",
        "\n",
        "# ✅ Load MiniLM model\n",
        "model = SentenceTransformer('paraphrase-MiniLM-L3-v2')\n"
      ]
    },
    {
      "cell_type": "code",
      "execution_count": null,
      "metadata": {
        "colab": {
          "base_uri": "https://localhost:8080/",
          "height": 1000,
          "referenced_widgets": [
            "29f34410d8274df09a02bca45a7769fd",
            "00c62fed9c4b4e8ea3fb853c9c22512f",
            "03a6f8e517534090b516793742e69640",
            "34581097e71b4f7e8a940033f7b7b33b",
            "d0566de6eb1541f0ab6c1b715b469612",
            "8e211eaf7b0244dba713f629e8e53ec6",
            "a69df17d11fd449988a8b21694767237",
            "624e15c76d88481fb76374c221a2e613",
            "2427d228f3544d18ae14718dce37dad6",
            "5317747783f04c8c874570235a589de6",
            "2330bc6d60814a529a2951db0445b6ee"
          ]
        },
        "id": "DKDvQEVHCwkz",
        "outputId": "f6b1736c-5ab6-4b3b-b422-bc381418c661"
      },
      "outputs": [
        {
          "data": {
            "application/vnd.jupyter.widget-view+json": {
              "model_id": "29f34410d8274df09a02bca45a7769fd",
              "version_major": 2,
              "version_minor": 0
            },
            "text/plain": [
              "Batches:   0%|          | 0/3750 [00:00<?, ?it/s]"
            ]
          },
          "metadata": {},
          "output_type": "display_data"
        },
        {
          "name": "stderr",
          "output_type": "stream",
          "text": [
            "/usr/local/lib/python3.11/dist-packages/torch/nn/modules/module.py:1750: FutureWarning: `encoder_attention_mask` is deprecated and will be removed in version 4.55.0 for `BertSdpaSelfAttention.forward`.\n",
            "  return forward_call(*args, **kwargs)\n"
          ]
        },
        {
          "name": "stdout",
          "output_type": "stream",
          "text": [
            "\n",
            "✅ Accuracy: 0.86575\n",
            "\n",
            "✅ Classification Report:\n",
            "               precision    recall  f1-score   support\n",
            "\n",
            "           0       1.00      0.85      0.92      9991\n",
            "           1       0.04      0.90      0.07        10\n",
            "           2       0.85      0.99      0.92       590\n",
            "           3       0.10      0.85      0.18        47\n",
            "           4       0.84      0.91      0.88       821\n",
            "           5       0.12      0.77      0.21        22\n",
            "           6       0.11      0.87      0.20        30\n",
            "           7       0.45      1.00      0.62        24\n",
            "           8       0.70      0.99      0.82       439\n",
            "           9       0.37      1.00      0.54        14\n",
            "          10       0.03      0.67      0.06         9\n",
            "          11       0.00      0.00      0.00         3\n",
            "\n",
            "    accuracy                           0.87     12000\n",
            "   macro avg       0.39      0.82      0.45     12000\n",
            "weighted avg       0.96      0.87      0.90     12000\n",
            "\n"
          ]
        },
        {
          "data": {
            "image/png": "[encoded data removed]",
            "text/plain": [
              "<Figure size 600x500 with 2 Axes>"
            ]
          },
          "metadata": {},
          "output_type": "display_data"
        }
      ],
      "source": [
        "# ✅ Encode using multiprocessing & batching (RAM-efficient)\n",
        "X_embed = model.encode(\n",
        "    text_data,\n",
        "    batch_size=16,\n",
        "    convert_to_numpy=True,\n",
        "    show_progress_bar=True\n",
        ")\n",
        "\n",
        "# ✅ Train/Test split\n",
        "X_train, X_test, y_train, y_test = train_test_split(\n",
        "    X_embed, y, test_size=0.2, stratify=y, random_state=42\n",
        ")\n",
        "# ✅ Train classifier\n",
        "clf = LogisticRegression(\n",
        "    max_iter=1000,\n",
        "    class_weight='balanced',\n",
        "    C=0.3\n",
        ")\n",
        "clf.fit(X_train, y_train)\n",
        "\n",
        "# ✅ Evaluate\n",
        "y_pred = clf.predict(X_test)\n",
        "\n",
        "print(\"\\n✅ Accuracy:\", accuracy_score(y_test, y_pred))\n",
        "print(\"\\n✅ Classification Report:\\n\", classification_report(y_test, y_pred))\n",
        "\n",
        "\n",
        "from sklearn.metrics import (\n",
        "    classification_report, accuracy_score, confusion_matrix\n",
        ")\n",
        "from sentence_transformers import SentenceTransformer\n",
        "import seaborn as sns\n",
        "import matplotlib.pyplot as plt\n",
        "\n",
        "# ✅ STEP 13: Confusion Matrix Plot\n",
        "cm = confusion_matrix(y_test, y_pred)\n",
        "labels = list(LabelEncoder().fit(df['Label']).classes_)\n",
        "\n",
        "plt.figure(figsize=(6, 5))\n",
        "sns.heatmap(cm, annot=True, fmt='d', cmap='Blues',\n",
        "            xticklabels=labels, yticklabels=labels)\n",
        "plt.title(\"Confusion Matrix\")\n",
        "plt.xlabel(\"Predicted\")\n",
        "plt.ylabel(\"Actual\")\n",
        "plt.show()\n",
        "\n"
      ]
    },
    {
      "cell_type": "code",
      "execution_count": null,
      "metadata": {
        "id": "4Y3EiW2YB3OT"
      },
      "outputs": [],
      "source": [
        "import nbformat\n",
        "\n",
        "# Step 1: Upload your broken notebook again\n",
        "from google.colab import files\n",
        "uploaded = files.upload()\n",
        "\n",
        "# Replace this with the actual uploaded filename\n",
        "filename = list(uploaded.keys())[0]\n",
        "\n",
        "# Step 2: Load and clean\n",
        "with open(filename, \"r\", encoding=\"utf-8\") as f:\n",
        "    nb = nbformat.read(f, as_version=4)\n",
        "\n",
        "# ✅ Step 3: Clean ONLY metadata.widgets (KEEP outputs and execution_count)\n",
        "for cell in nb.cells:\n",
        "    if 'metadata' in cell:\n",
        "        cell['metadata'] = {k: v for k, v in cell['metadata'].items() if k != 'widgets'}\n",
        "\n",
        "# ✅ Step 4: Clear notebook-level metadata.widgets (if present)\n",
        "if 'widgets' in nb.get('metadata', {}):\n",
        "    del nb['metadata']['widgets']\n",
        "\n",
        "# Step 5: Save cleaned notebook\n",
        "cleaned_filename = filename.replace('.ipynb', '_fixed.ipynb')\n",
        "with open(cleaned_filename, \"w\", encoding=\"utf-8\") as f:\n",
        "    nbformat.write(nb, f)\n",
        "\n",
        "print(f\"✅ Cleaned notebook saved (outputs preserved) as {cleaned_filename}\")\n",
        "files.download(cleaned_filename)"
      ]
    }
  ],
  "metadata": {
    "colab": {
      "provenance": [],
      "include_colab_link": true
    },
    "kernelspec": {
      "display_name": "Python 3",
      "name": "python3"
    },
    "language_info": {
      "name": "python"
    }
  },
  "nbformat": 4,
  "nbformat_minor": 0
}