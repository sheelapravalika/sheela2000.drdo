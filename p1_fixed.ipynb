{
  "cells": [
    {
      "cell_type": "markdown",
      "metadata": {
        "id": "view-in-github",
        "colab_type": "text"
      },
      "source": [
        "<a href=\"https://colab.research.google.com/github/sheelapravalika/sheela2000.drdo/blob/main/p1_fixed.ipynb\" target=\"_parent\"><img src=\"https://colab.research.google.com/assets/colab-badge.svg\" alt=\"Open In Colab\"/></a>"
      ]
    },
    {
      "cell_type": "code",
      "execution_count": null,
      "metadata": {
        "colab": {
          "base_uri": "https://localhost:8080/"
        },
        "id": "8c3kSgFGcE1H",
        "outputId": "0ac12ea4-f0f9-4a44-c46f-13306f5201f1"
      },
      "outputs": [
        {
          "name": "stdout",
          "output_type": "stream",
          "text": [
            "Requirement already satisfied: datasets in /usr/local/lib/python3.11/dist-packages (2.14.4)\n",
            "Collecting datasets\n",
            "  Downloading datasets-3.6.0-py3-none-any.whl.metadata (19 kB)\n",
            "Requirement already satisfied: huggingface_hub in /usr/local/lib/python3.11/dist-packages (0.33.1)\n",
            "Collecting huggingface_hub\n",
            "  Downloading huggingface_hub-0.33.2-py3-none-any.whl.metadata (14 kB)\n",
            "Requirement already satisfied: fsspec in /usr/local/lib/python3.11/dist-packages (2025.3.2)\n",
            "Collecting fsspec\n",
            "  Downloading fsspec-2025.5.1-py3-none-any.whl.metadata (11 kB)\n",
            "Requirement already satisfied: filelock in /usr/local/lib/python3.11/dist-packages (from datasets) (3.18.0)\n",
            "Requirement already satisfied: numpy>=1.17 in /usr/local/lib/python3.11/dist-packages (from datasets) (2.0.2)\n",
            "Requirement already satisfied: pyarrow>=15.0.0 in /usr/local/lib/python3.11/dist-packages (from datasets) (18.1.0)\n",
            "Requirement already satisfied: dill<0.3.9,>=0.3.0 in /usr/local/lib/python3.11/dist-packages (from datasets) (0.3.7)\n",
            "Requirement already satisfied: pandas in /usr/local/lib/python3.11/dist-packages (from datasets) (2.2.2)\n",
            "Requirement already satisfied: requests>=2.32.2 in /usr/local/lib/python3.11/dist-packages (from datasets) (2.32.3)\n",
            "Requirement already satisfied: tqdm>=4.66.3 in /usr/local/lib/python3.11/dist-packages (from datasets) (4.67.1)\n",
            "Requirement already satisfied: xxhash in /usr/local/lib/python3.11/dist-packages (from datasets) (3.5.0)\n",
            "Requirement already satisfied: multiprocess<0.70.17 in /usr/local/lib/python3.11/dist-packages (from datasets) (0.70.15)\n",
            "  Downloading fsspec-2025.3.0-py3-none-any.whl.metadata (11 kB)\n",
            "Requirement already satisfied: packaging in /usr/local/lib/python3.11/dist-packages (from datasets) (24.2)\n",
            "Requirement already satisfied: pyyaml>=5.1 in /usr/local/lib/python3.11/dist-packages (from datasets) (6.0.2)\n",
            "Requirement already satisfied: typing-extensions>=3.7.4.3 in /usr/local/lib/python3.11/dist-packages (from huggingface_hub) (4.14.0)\n",
            "Requirement already satisfied: hf-xet<2.0.0,>=1.1.2 in /usr/local/lib/python3.11/dist-packages (from huggingface_hub) (1.1.5)\n",
            "Requirement already satisfied: aiohttp!=4.0.0a0,!=4.0.0a1 in /usr/local/lib/python3.11/dist-packages (from fsspec[http]<=2025.3.0,>=2023.1.0->datasets) (3.11.15)\n",
            "Requirement already satisfied: charset-normalizer<4,>=2 in /usr/local/lib/python3.11/dist-packages (from requests>=2.32.2->datasets) (3.4.2)\n",
            "Requirement already satisfied: idna<4,>=2.5 in /usr/local/lib/python3.11/dist-packages (from requests>=2.32.2->datasets) (3.10)\n",
            "Requirement already satisfied: urllib3<3,>=1.21.1 in /usr/local/lib/python3.11/dist-packages (from requests>=2.32.2->datasets) (2.4.0)\n",
            "Requirement already satisfied: certifi>=2017.4.17 in /usr/local/lib/python3.11/dist-packages (from requests>=2.32.2->datasets) (2025.6.15)\n",
            "Requirement already satisfied: python-dateutil>=2.8.2 in /usr/local/lib/python3.11/dist-packages (from pandas->datasets) (2.9.0.post0)\n",
            "Requirement already satisfied: pytz>=2020.1 in /usr/local/lib/python3.11/dist-packages (from pandas->datasets) (2025.2)\n",
            "Requirement already satisfied: tzdata>=2022.7 in /usr/local/lib/python3.11/dist-packages (from pandas->datasets) (2025.2)\n",
            "Requirement already satisfied: aiohappyeyeballs>=2.3.0 in /usr/local/lib/python3.11/dist-packages (from aiohttp!=4.0.0a0,!=4.0.0a1->fsspec[http]<=2025.3.0,>=2023.1.0->datasets) (2.6.1)\n",
            "Requirement already satisfied: aiosignal>=1.1.2 in /usr/local/lib/python3.11/dist-packages (from aiohttp!=4.0.0a0,!=4.0.0a1->fsspec[http]<=2025.3.0,>=2023.1.0->datasets) (1.3.2)\n",
            "Requirement already satisfied: attrs>=17.3.0 in /usr/local/lib/python3.11/dist-packages (from aiohttp!=4.0.0a0,!=4.0.0a1->fsspec[http]<=2025.3.0,>=2023.1.0->datasets) (25.3.0)\n",
            "Requirement already satisfied: frozenlist>=1.1.1 in /usr/local/lib/python3.11/dist-packages (from aiohttp!=4.0.0a0,!=4.0.0a1->fsspec[http]<=2025.3.0,>=2023.1.0->datasets) (1.7.0)\n",
            "Requirement already satisfied: multidict<7.0,>=4.5 in /usr/local/lib/python3.11/dist-packages (from aiohttp!=4.0.0a0,!=4.0.0a1->fsspec[http]<=2025.3.0,>=2023.1.0->datasets) (6.6.3)\n",
            "Requirement already satisfied: propcache>=0.2.0 in /usr/local/lib/python3.11/dist-packages (from aiohttp!=4.0.0a0,!=4.0.0a1->fsspec[http]<=2025.3.0,>=2023.1.0->datasets) (0.3.2)\n",
            "Requirement already satisfied: yarl<2.0,>=1.17.0 in /usr/local/lib/python3.11/dist-packages (from aiohttp!=4.0.0a0,!=4.0.0a1->fsspec[http]<=2025.3.0,>=2023.1.0->datasets) (1.20.1)\n",
            "Requirement already satisfied: six>=1.5 in /usr/local/lib/python3.11/dist-packages (from python-dateutil>=2.8.2->pandas->datasets) (1.17.0)\n",
            "Downloading datasets-3.6.0-py3-none-any.whl (491 kB)\n",
            "\u001b[2K   \u001b[90m━━━━━━━━━━━━━━━━━━━━━━━━━━━━━━━━━━━━━━━━\u001b[0m \u001b[32m491.5/491.5 kB\u001b[0m \u001b[31m10.5 MB/s\u001b[0m eta \u001b[36m0:00:00\u001b[0m\n",
            "\u001b[?25hDownloading huggingface_hub-0.33.2-py3-none-any.whl (515 kB)\n",
            "\u001b[2K   \u001b[90m━━━━━━━━━━━━━━━━━━━━━━━━━━━━━━━━━━━━━━━━\u001b[0m \u001b[32m515.4/515.4 kB\u001b[0m \u001b[31m28.9 MB/s\u001b[0m eta \u001b[36m0:00:00\u001b[0m\n",
            "\u001b[?25hDownloading fsspec-2025.3.0-py3-none-any.whl (193 kB)\n",
            "\u001b[2K   \u001b[90m━━━━━━━━━━━━━━━━━━━━━━━━━━━━━━━━━━━━━━━━\u001b[0m \u001b[32m193.6/193.6 kB\u001b[0m \u001b[31m13.2 MB/s\u001b[0m eta \u001b[36m0:00:00\u001b[0m\n",
            "\u001b[?25hInstalling collected packages: fsspec, huggingface_hub, datasets\n",
            "  Attempting uninstall: fsspec\n",
            "    Found existing installation: fsspec 2025.3.2\n",
            "    Uninstalling fsspec-2025.3.2:\n",
            "      Successfully uninstalled fsspec-2025.3.2\n",
            "  Attempting uninstall: huggingface_hub\n",
            "    Found existing installation: huggingface-hub 0.33.1\n",
            "    Uninstalling huggingface-hub-0.33.1:\n",
            "      Successfully uninstalled huggingface-hub-0.33.1\n",
            "  Attempting uninstall: datasets\n",
            "    Found existing installation: datasets 2.14.4\n",
            "    Uninstalling datasets-2.14.4:\n",
            "      Successfully uninstalled datasets-2.14.4\n",
            "\u001b[31mERROR: pip's dependency resolver does not currently take into account all the packages that are installed. This behaviour is the source of the following dependency conflicts.\n",
            "gcsfs 2025.3.2 requires fsspec==2025.3.2, but you have fsspec 2025.3.0 which is incompatible.\n",
            "torch 2.6.0+cu124 requires nvidia-cublas-cu12==12.4.5.8; platform_system == \"Linux\" and platform_machine == \"x86_64\", but you have nvidia-cublas-cu12 12.5.3.2 which is incompatible.\n",
            "torch 2.6.0+cu124 requires nvidia-cuda-cupti-cu12==12.4.127; platform_system == \"Linux\" and platform_machine == \"x86_64\", but you have nvidia-cuda-cupti-cu12 12.5.82 which is incompatible.\n",
            "torch 2.6.0+cu124 requires nvidia-cuda-nvrtc-cu12==12.4.127; platform_system == \"Linux\" and platform_machine == \"x86_64\", but you have nvidia-cuda-nvrtc-cu12 12.5.82 which is incompatible.\n",
            "torch 2.6.0+cu124 requires nvidia-cuda-runtime-cu12==12.4.127; platform_system == \"Linux\" and platform_machine == \"x86_64\", but you have nvidia-cuda-runtime-cu12 12.5.82 which is incompatible.\n",
            "torch 2.6.0+cu124 requires nvidia-cudnn-cu12==9.1.0.70; platform_system == \"Linux\" and platform_machine == \"x86_64\", but you have nvidia-cudnn-cu12 9.3.0.75 which is incompatible.\n",
            "torch 2.6.0+cu124 requires nvidia-cufft-cu12==11.2.1.3; platform_system == \"Linux\" and platform_machine == \"x86_64\", but you have nvidia-cufft-cu12 11.2.3.61 which is incompatible.\n",
            "torch 2.6.0+cu124 requires nvidia-curand-cu12==10.3.5.147; platform_system == \"Linux\" and platform_machine == \"x86_64\", but you have nvidia-curand-cu12 10.3.6.82 which is incompatible.\n",
            "torch 2.6.0+cu124 requires nvidia-cusolver-cu12==11.6.1.9; platform_system == \"Linux\" and platform_machine == \"x86_64\", but you have nvidia-cusolver-cu12 11.6.3.83 which is incompatible.\n",
            "torch 2.6.0+cu124 requires nvidia-cusparse-cu12==12.3.1.170; platform_system == \"Linux\" and platform_machine == \"x86_64\", but you have nvidia-cusparse-cu12 12.5.1.3 which is incompatible.\n",
            "torch 2.6.0+cu124 requires nvidia-nvjitlink-cu12==12.4.127; platform_system == \"Linux\" and platform_machine == \"x86_64\", but you have nvidia-nvjitlink-cu12 12.5.82 which is incompatible.\u001b[0m\u001b[31m\n",
            "\u001b[0mSuccessfully installed datasets-3.6.0 fsspec-2025.3.0 huggingface_hub-0.33.2\n"
          ]
        }
      ],
      "source": [
        "!pip install -U datasets huggingface_hub fsspec"
      ]
    },
    {
      "cell_type": "code",
      "execution_count": null,
      "metadata": {
        "colab": {
          "base_uri": "https://localhost:8080/",
          "height": 1000,
          "referenced_widgets": [
            "a3670a9fba3e459cafbeb38785481198",
            "84b395fcbc004a4e9df46dbb8becd8af",
            "dd7619007e3144e9996e51c42678f1f8",
            "9701745912294faa8062631d7a1d916a",
            "279b8924f2d7468e9ee3346484606b82",
            "2ba4b9afc80844e48c6e98aa1cf03759",
            "c9b6da7cfa78491d979ba978703e32ee",
            "9008ed0051fd47e09490c0959ebee7e6",
            "77a6effad8cf4f5f9c23be9adef5bfd9",
            "0b7a8f3a28ff455496d0a2f151294ce7",
            "dc4e273f6b604d2aa572ea17959352d6",
            "b52a4295ffa74734b78833ba006b690a",
            "b047e2de33ab462786af64fc53ebc447",
            "05e79c6a7e1541c9822e0dc66c8d90ea",
            "6d1b7a3b360d40a580490aa2d7c5882c",
            "f8c246c3489a4fb8989e5aa93e13541a",
            "5eac5f495729470b9fed114c2f626b16",
            "47fd2f092bf04926a9bceb1c893e7526",
            "ee8ac53fe1484123b5d5cefb721e3500",
            "b33ce80df8914c73ab2e8a83e67df04a",
            "b5f3428f3101487d8a1722a4edb66344",
            "78d2158840d5459983dba2c8f3d85e02",
            "db9fa8f483e142ce963decb13a984c8c",
            "09e911df3c394108b1e39bddeb53789a",
            "80dfd6188c7a4d17a4ac093a4169adcf",
            "5bf06c3e73394e618575c441f2bc724d",
            "1ed08b15367f49178616356355edc0e8",
            "cec78518d5144c30b43e116a8a0376bd",
            "7ee6e3b51974410f9b13bbabc9750951",
            "40b70afcb34145789b627c34fa9242b8",
            "82411b4ff9d8460d83fb56078e52ab95",
            "e347fc046760470f88be21afb5ae4c61",
            "816d1ead4b32459fa3a12099463a4035",
            "c5699baad67c46e19f7bff2ce2a0a87b",
            "271aeb6e6fbd4d4e9caa34f4cf380d4b",
            "0696aca5968a4664b908f3932f42ab2b",
            "ff5d868607d54daeb8d866f2e0196864",
            "49d4b88aa64242e88cf50a5b3ff0b016",
            "1ba789867c15445fb4dac538808eff96",
            "b0932ebdcbc34baf8d583ac6589d7ce7",
            "e84817b8de3d4ab6b19b411ed794f4e1",
            "041baf9a1f9e49cc8e00b0b7c3eaf631",
            "47fcd52be736400cabf88b31bb8206fe",
            "93357dc95c58429db2b177d04e3ce53b",
            "61d8c60746ac4575b3c92618c294140c",
            "f431a9f66d33453aa55a165bfb57ba2b",
            "3945e9fffdca46549618f8cb924f3f86",
            "251cb13c9b414cef84a5090b47331746",
            "a39bf24ac305468eb4a98d42b3e3c266",
            "d4559d5943844500a4d660969b964271",
            "053c0a01b2fe4b178cffc99d3f611dac",
            "f8786afe85474dca8005aa02a0ad5ec8",
            "d9af8cfd3db2498697599ba97ff9f5a8",
            "e4f783cf2d9e42519b85244036ef7a12",
            "9183bc0989db49c9af83189fd5881edd",
            "cb07d1da1b0b4ff5bab846adb7130e59",
            "59740b51a43e4bc4be041c63ca16a660",
            "5a8e5a4bf9ce4bd8ac4b30a39cc9dbde",
            "f40634c1a83f4a00bc2370ebc573fc8d",
            "ed6aecd5917841b3938ee9d9a30daa51",
            "2d271fa2494a4135a8e003aa9b6253ac",
            "cb8444a810014f46aa2c66ff2d637d32",
            "d468c5f9d6654c69b94fa103739c9608",
            "ac1c0445200643e8a1bd10e56890e82d",
            "b1df3b808bcf4ca781f21d6abd392cb2",
            "72f01d2fa91149d9bc6d348f08019d64",
            "3e9cbe586b8c435fbacc4039668734df",
            "19d656c75f8e4b40a3941f351d652837",
            "a1a5aff70840462792134bb72607b802",
            "835000301fb84f4cbdd34cd7a34455bf",
            "5f2c6edfa9484d768e1578cd38f90ff3",
            "4d94b0f8a53544d58e761c73e3479760",
            "0f2caa83392b4d0abd3a84e4f99a4961",
            "f664aa8337bc473e9201362ce2f6c80a",
            "bbb7597cbb184757bfcf905479e2df0c",
            "1380fed8b29040a59b6afe7ae29a647a",
            "14a0a70950434813a472183437eda556",
            "735bd34279f5438abfd85d82dec545c4",
            "3271e9bbfe344e1fb3e0961306bd40d7",
            "4d207eecc5ee459aa7b4dfcc6fb24fff",
            "16a7395daa624b1f8bae374d499505ce",
            "7d5f34afd0934e4e8ac9742f353d1add",
            "fa7ebcc56c0c4ed0a5dd479b33ea5a1c",
            "ab53e34813a44c9684201ed84674740b",
            "b6cb91769aaa4b55ab36a67752f0ad7a",
            "b56f23e243c74163864db2b1abfdc2c2",
            "14dce63b4fc446019442ef804d47f90f",
            "f2f9d2156af94e56b8a9bfec1c4b2b2f",
            "4b73745e67294ef3a04f50e20ca37d24",
            "3a0f6c776e4f48ea8f37a9439e1c63bb",
            "cf1bc34a8da9459e9e8964a61f7714a3",
            "9b7c4361361647f8a68e0bde800c63d8",
            "1be281dc47a8422fab9e7f6b8b511b4e",
            "28fcac638a1a47d5875cc9f124e0cff0",
            "2d9e758ff1dd40e7bae6e6858c6fb9bd",
            "62b3b0b67cfb4d4cbaa076bcff20997e",
            "c27e178f001b4c46a49767d897d0694b",
            "8d08816aa64941cbab4c04c1cc18c93e",
            "61a02c9a6774409992b4d6b7d01facaf",
            "353163aa98354c4ea2c8bed9f30b01e7",
            "aa3d3b0c1d2e42989b6a038e7ab2eb45",
            "87a2e1ad209245eba7137322e9f7c3ed",
            "adc34cc0eec2477a94134812c5303315",
            "57e028463df949fca81ffa614e974f09",
            "e97816d538a3457ca256a7bf3f9f0690",
            "402b0f8dad364991a1ea6fd49cfe8d6b",
            "643167ffa6ef490ab9e26a61d7d6e662",
            "6195112cc0fc42b19ab27fb7752f0529",
            "ba61ecdb40e84063bb664d1bfa2f6363",
            "328f9d133f95462cae0b99327fc3505a",
            "11a0c7c407ea451da2fcca08f15c8c50",
            "b2f5033f5dcf409fafd86a9c09fc3cd1",
            "ad97a83b4a664183b18ee95a2f8b185d",
            "31bdf6ddc6fa41669467e42ea4ce144e",
            "0d75853f2a74498286dd2cca17ef0ab6",
            "eebddf1273e849b08f7af121b7a32ac3",
            "55d0a1174bc14af59dfe2e6190d92b30",
            "238c6fc79ac847d9a6ab71e65d95521e",
            "de2d13e92dec4f7488ed271cef3c4bea",
            "f06239d53dff4819a1791ff5e839fd5a",
            "2431169b66ca4184994e803602155b14",
            "97b3d4ec1f1842bc819f4c95ca68825a",
            "affe82cf4f61449f98a4ac58feb6bd49",
            "90306b5da8ce46b7a78ae7503a348d95",
            "565aeafb96d447deba54afe0f10c883a",
            "b70c815b78bf4de98261c6648491ce86",
            "1fbe49eb74a643a193592bc4dce94e9a",
            "3fa7b62c7b2845279248b5226ab53832",
            "e83e268fb54540c398e4edd10b702fb3",
            "cc8ede232a144fe7bc53c981fa541b51",
            "f6574097f6df41b791bc80fdf5bd0a7a",
            "48f5b6e8bbc44c758ca60ff57642a801",
            "1dca9be98ce84d388626ac591b64fa33",
            "4b11e85dcec04e5182f622f6559c820b",
            "ea989f8807df4686821c35342a723297",
            "6af2df9b85b9449d8ddcdfb0d8bb39e6",
            "435dac3aad784a438343b23bda2badf6",
            "1e717d63e4fb48649424b61cb2f7a98b",
            "ba03b5beef924e54a2a5018a357970ee",
            "ee3e9abcd0c54e69a9563cefa90b32d7",
            "71b81ce2faaf46ff85dbe3147011a6bc",
            "a67a3cbf3e4d492c9e91803066c2a8a4",
            "7cfcded4392b483fba685a262902b9be",
            "5b2e5cf233564b65893d134b6c6de9f6",
            "6cc899fb2bdf4a3fa626f12e0cb7b259",
            "80a601e6ed43404d8ee2d689b98c5f42",
            "16687e7809134062b292128c030b4fa2",
            "0dd49bc11eed4c1796d738d3f6d2f9ef",
            "8a671c38b8cf4325b559049e1acba774",
            "3fcbd1667e2f4b69b25dc7feaa0d7ce2",
            "ef7db9700f034a6d92800a33c8c957af",
            "e07a355482e345b2ba6fe1cad787e29b",
            "fc783fee26bb4c338edbde7383938674",
            "6df090b0a5904cf5a15267c540a7dabd",
            "e47e8becadb64283b80c36adae850f1a",
            "2371598d24574fec98b8b7c6d73163bb",
            "1a56ac5b298046a0b3f540326fc2ccde",
            "22aabdb9ea4e4c43af943fc07b8fbe53",
            "52f7d87553a64e26bbceb20be3f29202",
            "d6702a1c1fe04dc1b21c8ed28fe6e404",
            "a3f446a620ff4c8db42f58dd7a877290",
            "61efe66d73ba4f10a7d588b71954ff21",
            "177327594df6434882e46acf8fab8790",
            "9d5dde77a91f47c1a1e18a08f6cd69af",
            "47d628da578249a3be65c5dfb87838f0",
            "b8696e734d6049e1a77754590189b53c",
            "806989d945da49ec850eb4683c683506",
            "8b76366b29bf4be38b10b99ebdc8cbaf",
            "af9edd52fa4e422f90a4fef93912ff4e",
            "0013e22577da4a8f8df2ed4fc0673f59",
            "4b5d201d56d044f08b7f9b87d2f5e48a",
            "a8ef7a3d443c459ca363400893c49247",
            "a2ed90d575f14485b45c70e0fb057936",
            "b79bdfa53c454efdb98296704098243c",
            "9c3974ebd202495a98b446a28408bde0",
            "05126f0ed9674bf6a7cc23e3978fef9c",
            "649184a8b3a64ef2b70d02884ff24d4d",
            "0a7fe9ec2f134155b2cf773377bba2a1",
            "2c085740efce431c80de7fdb293475ab",
            "5f2eae58f6b74225ace36afec0251faf",
            "3003e333f4364ed89802947f5b152d46",
            "72a16f25c9a44c288d568002f37fb2a4",
            "9a0e0c716da54c899176e599448fdd29",
            "d61aa9ab22b24353be8e09b3b0ff62d8",
            "1d2831547acc4e688fcb8eb6917d3af3",
            "0d861cd4fe0040a189e023b82bf404d4",
            "b38c6e35dc9b442e97fc263bf08a554b",
            "f0d164fdd05d487a9b1cc73ddffde7e9",
            "9733030dd3fa4b3991795216c9ad2631",
            "136ffa9aebbf421a98621fd9e3d3257d",
            "43769708a71643ec81dc2d1e89cbbba9",
            "96606f302986416291a50f4b60d7c2f7",
            "49d1f351a2a14710929d6e420bda5b24",
            "fe831c24978347e3b54cc65627c06393",
            "20c36f424380411a9b80c8cdd1c5c5c3",
            "a85222c62a4d43e68c5a2fb433493d63",
            "7384630c6e57440d87036e86be290da8",
            "322df607319f4df88a17372249f7d7fb",
            "56ac12ecf8104ef9a0c321235ee17067",
            "9b8d724971a7434cbae2922168ca9782",
            "ef11e45aaf1540fca84f8cae5ec89469",
            "8632fe2db1c14d9c9f7d26418ea8197f",
            "d497fc3f456046578879711f5f91c453",
            "ad5f71df45984830bc462ab51f2d5522",
            "07e5a8f4f8704d6b991ab9cf4ade568e",
            "52332d5ccc3f421694972bf86bab5cf8",
            "28c77fd63fec441bbdbad571ec9a445e",
            "f54063d922164d058bbc42f82dac4a66",
            "65638d7a6727459badcf9ea947eec7ed",
            "ef40d202f1d14776a843c973dcb6e19f",
            "cf2a8445e5074137879f83fdbae26000",
            "8a3177d0392748c4abea1045b1091e8b",
            "fa8c6fc341ee48199a8a172fe7f66835",
            "1e6eda3d12a14b528c6a81ac132173fe",
            "b987d6f3ea76415680fb2353cef63ce2",
            "77a63e07be4a42e7905768f65bf410d5",
            "24f3d7aa145142c9880f5808adb377b4",
            "233d0f33571d424d844872b9f127a1e9",
            "a0dd86a7eeed4d039899a3eb84af0819",
            "a0ba1c10023c4952ad8a0463bfd77fb9",
            "bc700d7f8c65469280e5583bbbd5b580",
            "6169d7ddf3094df4bedf65fc47636721",
            "2ad98f22ce49471583cff1372e9bd7ee",
            "5fc55e202061458f9e02afa3c2a88e01",
            "6b7adc151ac443da86f15cf0bc96cd33",
            "14eba2cf32b04a40bdda7df151be3a59",
            "9a409889bb2f49ac8522e175d26eadd8",
            "1147cdc1c034467c939279eefc7e117f",
            "ae7d2ecbc18a4c74bc244fe6e2763ea9",
            "c2b48ccf0c0e41418df834164b6c4299",
            "09d8c070106b415081b2f7db8ba95fe4",
            "da66589349094143871075fd331160dc",
            "0619204146104f30b14833ef6bd99e6f",
            "aa9d1bb58c7348bf9efec72c09ed41b3",
            "58cb119a3a174cc39dbcd47154250b4a",
            "c2e884aba5894c8ab10722678b1f55d4",
            "535a31b3dac54f9ba4887f8b02e1d076",
            "da203f5850c049fcb23106b766c11b1c",
            "54c9c85b75974e0a8a6d85886971149d",
            "f57b5113623a4308b44036f6581432bc",
            "a8c9af380ac94b609b51260b5c6f8743",
            "0e79bb682c7d4e6eb6123644944706f8",
            "97c2cca4e82e442c94b2b35399d6664f",
            "503e38dad63e4cabbaf61aa69ca92dde",
            "240a0a41c5d342a194209f36cf853029",
            "ea96b20c4886480ea6fe1aa9f218a8d0",
            "a71c0dd17ff245da8af8e7e88e29b345",
            "83b5ecfe76db4be2acfbde6f745492f9",
            "c9a5aac8eb1a49dab931e3ab4b65715b",
            "e20101084e2447bc85448d02aed65984",
            "9468c4897f8b41a99738ea7727eb9ab7",
            "ba12138021f948c0bb59c7c703f30299",
            "a9d0268e33ff43b794318fba2e154a71",
            "378e665d382c40b2bb5468fb0d13636e",
            "45f4a854950343b18cb86a78c8813743",
            "58f5a7678ede46e58de640bd3280e7cc",
            "0736f79b51a74768bba3d15f4e976460",
            "daef6895f87745488a077761eac0ebe0",
            "9a016d28e15c45d59b552e49391f6880",
            "fce628dba352449c926ea738f5d46242",
            "4e2c4217e44d4d3f8baf1744615ac09d",
            "cb8e6ad602494ca087dae4bae9f4bc84",
            "df38cbb0cc504376849397332d23a087",
            "ab1b113fe15344acb0a20729cdde880f",
            "fc4f6638ab7c4be9a2efea60a48d6c7b",
            "21ddf60064cc49f293f87ae08b14ec4c",
            "b698d9bba6254246a0bf3dd5fa13cb77",
            "a0a1c7f92fdd439785749c5572c30f09",
            "afe6cdb88a3a493fbe25990277f43c25",
            "5612a037c3cf4927a8ce43ae373e6e16",
            "372df739b45c44f081fba7e9911375c7",
            "218d0cf9b0594354a067cb483f4ed439",
            "4334f6e6140c4ddc9128b691dbc3011b",
            "d4fbc56af1c34627baa6f8bf0ffe0fb7",
            "581b1406ba15473fb0f5cfed297031e5",
            "0bf1b95d9a8f44f88572c81dfa82f012",
            "3f860134c2d24950b7ab3ab851f10471",
            "4be23b1cec1d4c878fed8f3a82533998",
            "291e6d89a29948f1ac63d59f0a15883a",
            "1f84aed7affe4eee8e5ee35f029fa02b",
            "35e715d233f6488c85f480842f87bf09",
            "666a5d75a6de4c7683e39475d15db6ee",
            "a55e57793cbc4f2bba04fcca7703e228",
            "7e0499b924e742fe84e032a46fd2d159",
            "f4c00b092ff84b28afca0893b1580ebc",
            "b7945539ef0a47ebb698449d4262fef9",
            "18e44b4c41e14b219ccb395b82d9f69c",
            "7aec026f8c914b359b562a20220ff94e",
            "5ce3b8d5336443ac8ba88dfb4a01ac49",
            "784acb41a0f44b1889425a0073a3a406",
            "110a05752b9445fbaf0d833a3e6796cd",
            "00fe77a852e74d638041b56614d1d2d2",
            "0cc60716218c43518546c7a7fed1e3ab",
            "d46722a9fb9f425991d148e667ee3c2e",
            "96cde0dde4e94c3f838ef700c0926754",
            "0c34a96b316d4fc0b931ef52a78dc5ad",
            "3ad91dd112d747828e3c400bfb59f71d",
            "a9f2fd4bbb4c4e86bce1078af5cdc14a",
            "93545c1dae0d4d16be011b42266e5f15",
            "81a66e7352324919bb7922166331fc6b",
            "180712f084074067830e67033a8a3030",
            "cb2d39376725405090e7c77df262a7fb",
            "90a96b9717cc407dac72f10dd9101aea",
            "c4efffdbf39947078c1caeb6478d4a8e",
            "1bdbea8df0a3410594521365c321eea0",
            "ec9bcea48acc4402931241135521c033",
            "2c94d6ec9a5043089e8c4e327199ba4a",
            "35f62a4d6b584978b085f098de3c4524",
            "ed1bc87d05774ca5b32a29ef373afeac",
            "269fbca5b6d74864aa07ee57eb3d68fd",
            "368bb95b68e64c1d8b3b1fb688c69c69",
            "a10e6dfb6b674fe39a92a7c6d445d037",
            "d96b52cdd38848b3a7bbce63de82989e",
            "f47a24d036f94bcba43dd8cbd851d3fa",
            "cb3295546d1a4dd292b96891b1331263",
            "fdde642866f34710b95ce3bccc22ddc2",
            "76a7bc92448742e4aebb99dd189698d1",
            "a71b98a87521495696c43cc67883f96f",
            "e394f929f793491480ff9613f695b5eb",
            "8ecf11c59bcc422d9dec30b76c15e728",
            "b2dda1a488d6472393e70b90f5089042",
            "7c177f440e1e497db89415bc8cfafb0d",
            "cc3fe67211fd4d79b349f64cf338beab",
            "23497ad3c95d4e8b8f3c4ef891171af7",
            "5fa5782a744441c4ab75b1b290582fed",
            "30648767706849cf99139042d02f9e80",
            "e78953a834fd4ae382b9fb948538b2c5",
            "a1bd2459c5cd446fbb55a0c463c6aa33",
            "da00a04d684d478b86c972c21383c15c",
            "2789852a7f5f463e945a989a4c7747b1",
            "e0b0f6a1503947e5ab6c5fc3f0eb0412",
            "3e5e837b197f45fc956c22cf9b6df5aa",
            "5a576a779dc9444e9e8375076b70e4e2",
            "b4ac75d3ad9e46e996afc3995f5a728c",
            "4b6d0ec1444d4779afb4047bc1e85bd2",
            "f4250dcfcf6844f8820a6a936ead28ad",
            "0eabdfb0e3f24fc2841b941e18a07f29",
            "1e6a3cece06b4e80bea26d0ea883e7e6",
            "c9f2740440954bffa83a443b61132412",
            "98581137966b4afca2011b590d765d3d",
            "28d74009017f4de98098c385d5065960",
            "3643cbf941a54028b32aab517e1ccc97",
            "bdb1e75b022d4deba813ac29d9eb9763",
            "fd74b1447d524f2bbeae2d94640a9041",
            "93f9b42d12504dc085ed5a1d4a0444e2",
            "e86cad3f3a45476cbc9fe298ca044bba",
            "cc7a21357f8a4fcc9255f6c0e7453fb8",
            "df38f82f702849c09ddb02f909978a5d",
            "b3e924a921a64ada8170d82c55d6ce8c",
            "8484a0ac71c447708e12dbeeea9d6d39",
            "42b4f031bcb64577b9f0500d7b23c285",
            "1b5b2aa0c91f43e09613e6a1fe409b54",
            "507afa9001804a39a675fd55a800020e",
            "f6e0a3a31d3346f8a86dda06e84240e0",
            "bb8252f1ad3e434e89230c34504e1c7c",
            "4e8fb6b8a87944cea75ed900b4d5cf5a",
            "9f12c2d0a8f947d5b2190f2927c02f02",
            "0c1cd975ebe245968a1fb7a46b2ea809",
            "4ff45f62eaca45b59ddccc62ccec2b29",
            "f00aa6b1e4244d2e954fca7e3a370c48",
            "1cbeac6097f64aa1b4e5ca2178439a9e",
            "4f764fd66ba04a00bf4b19d9801ff935",
            "8677e5d3b13e4c688ad922dbe6386d7d",
            "83ef62db58a643efae54f8f6fdafba9d",
            "a3ab5f67dabc47efb6cde691335cc757",
            "c78ba0f15c80495d9ae0a4c01c86d5e8",
            "0f7fc6a92e7746489d5d30d6771da2fc",
            "949c654b6b5f4745b4045d430d73a805",
            "0f8ce67ea1d54a178fd5a1230555a1d5",
            "d4598bc27a21427b822bdc4bddc217a2",
            "81b3ebc15c2c4842a3eb16f826e44864",
            "defcce0b906f44e39fc79eddfc32cce6",
            "9f830f83af9c4f2ebc0b754d09a3e889",
            "0b31e7e3e3024a8587ad3e77a02a96ae",
            "4ef57a6e0d144578a84168f210475a6d",
            "64cae4a902a4481e8e082287003a2a89",
            "9a2cc0e4eb254e7e98302d16a20a76bd",
            "78acc72d20e94741b1c6c5d76ff77707",
            "65b7106bc79b489a8809ddcfcfeb4ed7",
            "9c8554d681f84fffba3db49f898f31ff",
            "6f8e09d7d57c4f7881676562d9d4d1b1",
            "a3056b066fac4d2ca20cecf0c7025409",
            "8db5713a83f7485db69fc83381376d79",
            "4d8e0d6e118b406d86b5cda294ce5076",
            "73721a04593e4f919a337743c2a5167f",
            "3485cc58f22f46aebc5c75189eb07c39",
            "f95fd9ebf6974621aa7d4d90a9968032",
            "68d643d5e3774e448660335bb1ce678d",
            "5f2d15663c30474d90b437af7b05bef3",
            "c7395853c2384117a1ae13dc0956e688",
            "9752229c587448dfbb12cbbe2a9b5833",
            "bb39708d68bf401a94350fb2ca04f531",
            "58021fcb695a4f6e985d94420d227696",
            "7e15939058064d67874db999bb42309a",
            "cfab7209621b4aa3bdf4f86f6a33a9ea",
            "c3cb669d808d45e2a91b1afbada1e2c4",
            "d98a323be71f4d71ad9c770cf7f15f79",
            "a3ce93f62d33431aa8a56016c4462de7",
            "32e6d50f3d7e4372b1f5d64b7dce010f",
            "6eeaff3726d840018f58030ada74fe15",
            "ba971acc0b144fc283ae1783a5b85840",
            "dcb456dc51c44ec5b9ab2f4f68b37dd8",
            "c3871dc410ae4ba5893a3fcc8a3eaca7",
            "b50d6df7fc6946b48ac8a20e9c0a9ce1",
            "7e6711f58f844174846d2ff63604eba5",
            "d368fb6174bb468480d874a26dc14b00",
            "c24b93da8a114473a35b4d7ae01b3d0c",
            "ebf34a46dd9d456d809c6068c9238562",
            "ea52894da0e4453f94073734e68b7f59",
            "707677d90db74dce832c51bc8a66cb01",
            "b29f668861b24654866eebf3e4f4fb43",
            "1246804d59644a8cae9b66531606f9f0",
            "c38bff4f37e841cc803feff92d508e57",
            "29dbdb554ec64c42b678f3fa831f3440",
            "626bee3bb05645da9ed2f43854d8869a",
            "8eb9b229e10041318a822cc85828434d",
            "88497e794ef441f89a1af6c666c9d0a6",
            "0ffbcf249fc84da89328093f0ac06a6e"
          ]
        },
        "id": "DkRRABIif0nl",
        "outputId": "ee870d02-75d7-4ca8-b9bc-b8abbcc8be9e"
      },
      "outputs": [
        {
          "name": "stderr",
          "output_type": "stream",
          "text": [
            "/usr/local/lib/python3.11/dist-packages/huggingface_hub/utils/_auth.py:94: UserWarning: \n",
            "The secret `HF_TOKEN` does not exist in your Colab secrets.\n",
            "To authenticate with the Hugging Face Hub, create a token in your settings tab (https://huggingface.co/settings/tokens), set it as secret in your Google Colab and restart your session.\n",
            "You will be able to reuse this secret in all of your notebooks.\n",
            "Please note that authentication is recommended but still optional to access public models or datasets.\n",
            "  warnings.warn(\n"
          ]
        },
        {
          "data": {
            "application/vnd.jupyter.widget-view+json": {
              "model_id": "a3670a9fba3e459cafbeb38785481198",
              "version_major": 2,
              "version_minor": 0
            },
            "text/plain": [
              "README.md: 0.00B [00:00, ?B/s]"
            ]
          },
          "metadata": {},
          "output_type": "display_data"
        },
        {
          "data": {
            "application/vnd.jupyter.widget-view+json": {
              "model_id": "b52a4295ffa74734b78833ba006b690a",
              "version_major": 2,
              "version_minor": 0
            },
            "text/plain": [
              "Resolving data files:   0%|          | 0/34 [00:00<?, ?it/s]"
            ]
          },
          "metadata": {},
          "output_type": "display_data"
        },
        {
          "data": {
            "application/vnd.jupyter.widget-view+json": {
              "model_id": "db9fa8f483e142ce963decb13a984c8c",
              "version_major": 2,
              "version_minor": 0
            },
            "text/plain": [
              "Downloading data:   0%|          | 0/34 [00:00<?, ?files/s]"
            ]
          },
          "metadata": {},
          "output_type": "display_data"
        },
        {
          "data": {
            "application/vnd.jupyter.widget-view+json": {
              "model_id": "c5699baad67c46e19f7bff2ce2a0a87b",
              "version_major": 2,
              "version_minor": 0
            },
            "text/plain": [
              "benign-3.csv: 0.00B [00:00, ?B/s]"
            ]
          },
          "metadata": {},
          "output_type": "display_data"
        },
        {
          "data": {
            "application/vnd.jupyter.widget-view+json": {
              "model_id": "61d8c60746ac4575b3c92618c294140c",
              "version_major": 2,
              "version_minor": 0
            },
            "text/plain": [
              "benign-2.csv: 0.00B [00:00, ?B/s]"
            ]
          },
          "metadata": {},
          "output_type": "display_data"
        },
        {
          "data": {
            "application/vnd.jupyter.widget-view+json": {
              "model_id": "cb07d1da1b0b4ff5bab846adb7130e59",
              "version_major": 2,
              "version_minor": 0
            },
            "text/plain": [
              "benign-4.csv: 0.00B [00:00, ?B/s]"
            ]
          },
          "metadata": {},
          "output_type": "display_data"
        },
        {
          "data": {
            "application/vnd.jupyter.widget-view+json": {
              "model_id": "3e9cbe586b8c435fbacc4039668734df",
              "version_major": 2,
              "version_minor": 0
            },
            "text/plain": [
              "benign-1.csv: 0.00B [00:00, ?B/s]"
            ]
          },
          "metadata": {},
          "output_type": "display_data"
        },
        {
          "data": {
            "application/vnd.jupyter.widget-view+json": {
              "model_id": "735bd34279f5438abfd85d82dec545c4",
              "version_major": 2,
              "version_minor": 0
            },
            "text/plain": [
              "redis_brute_force.csv: 0.00B [00:00, ?B/s]"
            ]
          },
          "metadata": {},
          "output_type": "display_data"
        },
        {
          "data": {
            "application/vnd.jupyter.widget-view+json": {
              "model_id": "4b73745e67294ef3a04f50e20ca37d24",
              "version_major": 2,
              "version_minor": 0
            },
            "text/plain": [
              "benign-5.csv: 0.00B [00:00, ?B/s]"
            ]
          },
          "metadata": {},
          "output_type": "display_data"
        },
        {
          "data": {
            "application/vnd.jupyter.widget-view+json": {
              "model_id": "353163aa98354c4ea2c8bed9f30b01e7",
              "version_major": 2,
              "version_minor": 0
            },
            "text/plain": [
              "sql-i.csv: 0.00B [00:00, ?B/s]"
            ]
          },
          "metadata": {},
          "output_type": "display_data"
        },
        {
          "data": {
            "application/vnd.jupyter.widget-view+json": {
              "model_id": "11a0c7c407ea451da2fcca08f15c8c50",
              "version_major": 2,
              "version_minor": 0
            },
            "text/plain": [
              "http-flood.csv: 0.00B [00:00, ?B/s]"
            ]
          },
          "metadata": {},
          "output_type": "display_data"
        },
        {
          "data": {
            "application/vnd.jupyter.widget-view+json": {
              "model_id": "97b3d4ec1f1842bc819f4c95ca68825a",
              "version_major": 2,
              "version_minor": 0
            },
            "text/plain": [
              "brobot.csv: 0.00B [00:00, ?B/s]"
            ]
          },
          "metadata": {},
          "output_type": "display_data"
        },
        {
          "data": {
            "application/vnd.jupyter.widget-view+json": {
              "model_id": "1dca9be98ce84d388626ac591b64fa33",
              "version_major": 2,
              "version_minor": 0
            },
            "text/plain": [
              "http_slowloris.csv: 0.00B [00:00, ?B/s]"
            ]
          },
          "metadata": {},
          "output_type": "display_data"
        },
        {
          "data": {
            "application/vnd.jupyter.widget-view+json": {
              "model_id": "5b2e5cf233564b65893d134b6c6de9f6",
              "version_major": 2,
              "version_minor": 0
            },
            "text/plain": [
              "tch-ssl.csv: 0.00B [00:00, ?B/s]"
            ]
          },
          "metadata": {},
          "output_type": "display_data"
        },
        {
          "data": {
            "application/vnd.jupyter.widget-view+json": {
              "model_id": "e47e8becadb64283b80c36adae850f1a",
              "version_major": 2,
              "version_minor": 0
            },
            "text/plain": [
              "brute_force.csv: 0.00B [00:00, ?B/s]"
            ]
          },
          "metadata": {},
          "output_type": "display_data"
        },
        {
          "data": {
            "application/vnd.jupyter.widget-view+json": {
              "model_id": "b8696e734d6049e1a77754590189b53c",
              "version_major": 2,
              "version_minor": 0
            },
            "text/plain": [
              "mysql_brute_force.csv: 0.00B [00:00, ?B/s]"
            ]
          },
          "metadata": {},
          "output_type": "display_data"
        },
        {
          "data": {
            "application/vnd.jupyter.widget-view+json": {
              "model_id": "649184a8b3a64ef2b70d02884ff24d4d",
              "version_major": 2,
              "version_minor": 0
            },
            "text/plain": [
              "SMB_brute_force.csv: 0.00B [00:00, ?B/s]"
            ]
          },
          "metadata": {},
          "output_type": "display_data"
        },
        {
          "data": {
            "application/vnd.jupyter.widget-view+json": {
              "model_id": "f0d164fdd05d487a9b1cc73ddffde7e9",
              "version_major": 2,
              "version_minor": 0
            },
            "text/plain": [
              "SMB_brute_force-2.csv: 0.00B [00:00, ?B/s]"
            ]
          },
          "metadata": {},
          "output_type": "display_data"
        },
        {
          "data": {
            "application/vnd.jupyter.widget-view+json": {
              "model_id": "56ac12ecf8104ef9a0c321235ee17067",
              "version_major": 2,
              "version_minor": 0
            },
            "text/plain": [
              "cve-2020.csv: 0.00B [00:00, ?B/s]"
            ]
          },
          "metadata": {},
          "output_type": "display_data"
        },
        {
          "data": {
            "application/vnd.jupyter.widget-view+json": {
              "model_id": "ef40d202f1d14776a843c973dcb6e19f",
              "version_major": 2,
              "version_minor": 0
            },
            "text/plain": [
              "syn-flood.csv: 0.00B [00:00, ?B/s]"
            ]
          },
          "metadata": {},
          "output_type": "display_data"
        },
        {
          "data": {
            "application/vnd.jupyter.widget-view+json": {
              "model_id": "bc700d7f8c65469280e5583bbbd5b580",
              "version_major": 2,
              "version_minor": 0
            },
            "text/plain": [
              "ntp-amplification.csv: 0.00B [00:00, ?B/s]"
            ]
          },
          "metadata": {},
          "output_type": "display_data"
        },
        {
          "data": {
            "application/vnd.jupyter.widget-view+json": {
              "model_id": "da66589349094143871075fd331160dc",
              "version_major": 2,
              "version_minor": 0
            },
            "text/plain": [
              "icmp_flood.csv: 0.00B [00:00, ?B/s]"
            ]
          },
          "metadata": {},
          "output_type": "display_data"
        },
        {
          "data": {
            "application/vnd.jupyter.widget-view+json": {
              "model_id": "97c2cca4e82e442c94b2b35399d6664f",
              "version_major": 2,
              "version_minor": 0
            },
            "text/plain": [
              "cerber.csv: 0.00B [00:00, ?B/s]"
            ]
          },
          "metadata": {},
          "output_type": "display_data"
        },
        {
          "data": {
            "application/vnd.jupyter.widget-view+json": {
              "model_id": "378e665d382c40b2bb5468fb0d13636e",
              "version_major": 2,
              "version_minor": 0
            },
            "text/plain": [
              "udp_flood.csv: 0.00B [00:00, ?B/s]"
            ]
          },
          "metadata": {},
          "output_type": "display_data"
        },
        {
          "data": {
            "application/vnd.jupyter.widget-view+json": {
              "model_id": "fc4f6638ab7c4be9a2efea60a48d6c7b",
              "version_major": 2,
              "version_minor": 0
            },
            "text/plain": [
              "locky.csv: 0.00B [00:00, ?B/s]"
            ]
          },
          "metadata": {},
          "output_type": "display_data"
        },
        {
          "data": {
            "application/vnd.jupyter.widget-view+json": {
              "model_id": "0bf1b95d9a8f44f88572c81dfa82f012",
              "version_major": 2,
              "version_minor": 0
            },
            "text/plain": [
              "globelmposter.csv: 0.00B [00:00, ?B/s]"
            ]
          },
          "metadata": {},
          "output_type": "display_data"
        },
        {
          "data": {
            "application/vnd.jupyter.widget-view+json": {
              "model_id": "18e44b4c41e14b219ccb395b82d9f69c",
              "version_major": 2,
              "version_minor": 0
            },
            "text/plain": [
              "chthonic.csv: 0.00B [00:00, ?B/s]"
            ]
          },
          "metadata": {},
          "output_type": "display_data"
        },
        {
          "data": {
            "application/vnd.jupyter.widget-view+json": {
              "model_id": "a9f2fd4bbb4c4e86bce1078af5cdc14a",
              "version_major": 2,
              "version_minor": 0
            },
            "text/plain": [
              "hidden_tear.csv: 0.00B [00:00, ?B/s]"
            ]
          },
          "metadata": {},
          "output_type": "display_data"
        },
        {
          "data": {
            "application/vnd.jupyter.widget-view+json": {
              "model_id": "ed1bc87d05774ca5b32a29ef373afeac",
              "version_major": 2,
              "version_minor": 0
            },
            "text/plain": [
              "lord.csv: 0.00B [00:00, ?B/s]"
            ]
          },
          "metadata": {},
          "output_type": "display_data"
        },
        {
          "data": {
            "application/vnd.jupyter.widget-view+json": {
              "model_id": "8ecf11c59bcc422d9dec30b76c15e728",
              "version_major": 2,
              "version_minor": 0
            },
            "text/plain": [
              "agent_tesla.csv: 0.00B [00:00, ?B/s]"
            ]
          },
          "metadata": {},
          "output_type": "display_data"
        },
        {
          "data": {
            "application/vnd.jupyter.widget-view+json": {
              "model_id": "e0b0f6a1503947e5ab6c5fc3f0eb0412",
              "version_major": 2,
              "version_minor": 0
            },
            "text/plain": [
              "redline.csv: 0.00B [00:00, ?B/s]"
            ]
          },
          "metadata": {},
          "output_type": "display_data"
        },
        {
          "data": {
            "application/vnd.jupyter.widget-view+json": {
              "model_id": "3643cbf941a54028b32aab517e1ccc97",
              "version_major": 2,
              "version_minor": 0
            },
            "text/plain": [
              "form_book.csv: 0.00B [00:00, ?B/s]"
            ]
          },
          "metadata": {},
          "output_type": "display_data"
        },
        {
          "data": {
            "application/vnd.jupyter.widget-view+json": {
              "model_id": "507afa9001804a39a675fd55a800020e",
              "version_major": 2,
              "version_minor": 0
            },
            "text/plain": [
              "lokibot.csv: 0.00B [00:00, ?B/s]"
            ]
          },
          "metadata": {},
          "output_type": "display_data"
        },
        {
          "data": {
            "application/vnd.jupyter.widget-view+json": {
              "model_id": "83ef62db58a643efae54f8f6fdafba9d",
              "version_major": 2,
              "version_minor": 0
            },
            "text/plain": [
              "delf-banker.csv: 0.00B [00:00, ?B/s]"
            ]
          },
          "metadata": {},
          "output_type": "display_data"
        },
        {
          "data": {
            "application/vnd.jupyter.widget-view+json": {
              "model_id": "4ef57a6e0d144578a84168f210475a6d",
              "version_major": 2,
              "version_minor": 0
            },
            "text/plain": [
              "ratinfected.csv: 0.00B [00:00, ?B/s]"
            ]
          },
          "metadata": {},
          "output_type": "display_data"
        },
        {
          "data": {
            "application/vnd.jupyter.widget-view+json": {
              "model_id": "3485cc58f22f46aebc5c75189eb07c39",
              "version_major": 2,
              "version_minor": 0
            },
            "text/plain": [
              "squirrel_waffle.csv: 0.00B [00:00, ?B/s]"
            ]
          },
          "metadata": {},
          "output_type": "display_data"
        },
        {
          "data": {
            "application/vnd.jupyter.widget-view+json": {
              "model_id": "d98a323be71f4d71ad9c770cf7f15f79",
              "version_major": 2,
              "version_minor": 0
            },
            "text/plain": [
              "probe.csv: 0.00B [00:00, ?B/s]"
            ]
          },
          "metadata": {},
          "output_type": "display_data"
        },
        {
          "data": {
            "application/vnd.jupyter.widget-view+json": {
              "model_id": "ebf34a46dd9d456d809c6068c9238562",
              "version_major": 2,
              "version_minor": 0
            },
            "text/plain": [
              "Generating train split:   0%|          | 0/151062 [00:00<?, ? examples/s]"
            ]
          },
          "metadata": {},
          "output_type": "display_data"
        },
        {
          "name": "stdout",
          "output_type": "stream",
          "text": [
            "DatasetDict({\n",
            "    train: Dataset({\n",
            "        features: ['No.', 'Time', 'Source', 'Destination', 'Protocol', 'Length', 'Info'],\n",
            "        num_rows: 151062\n",
            "    })\n",
            "})\n",
            "['No.', 'Time', 'Source', 'Destination', 'Protocol', 'Length', 'Info']\n",
            "{'No.': Value(dtype='int64', id=None), 'Time': Value(dtype='float64', id=None), 'Source': Value(dtype='string', id=None), 'Destination': Value(dtype='string', id=None), 'Protocol': Value(dtype='string', id=None), 'Length': Value(dtype='int64', id=None), 'Info': Value(dtype='string', id=None)}\n",
            "     No.        Time                                   Source  \\\n",
            "0  10001  375.057687                           192.168.239.25   \n",
            "1  10002  375.062327                        2600:1901:1:b05::   \n",
            "2  10003  375.062460  2409:40f4:100b:c1b6:b9fb:3ec3:5675:a236   \n",
            "3  10004  375.063494  2409:40f4:100b:c1b6:b9fb:3ec3:5675:a236   \n",
            "4  10005  375.067654                        2600:1901:1:b05::   \n",
            "\n",
            "                               Destination Protocol  Length  \\\n",
            "0                          239.255.255.250     SSDP     167   \n",
            "1  2409:40f4:100b:c1b6:b9fb:3ec3:5675:a236  TLSv1.3     749   \n",
            "2                        2600:1901:1:b05::      TCP      86   \n",
            "3                        2600:1901:1:c36::     QUIC    1292   \n",
            "4  2409:40f4:100b:c1b6:b9fb:3ec3:5675:a236  TLSv1.3     638   \n",
            "\n",
            "                                                Info  \n",
            "0                               M-SEARCH * HTTP/1.1   \n",
            "1                 Application Data, Application Data  \n",
            "2  60888  >  443 [ACK] Seq=1505 Ack=4066 Win=6361...  \n",
            "3     Protected Payload (KP0), DCID=d90bfc3231755645  \n",
            "4                                   Application Data  \n"
          ]
        }
      ],
      "source": [
        "from datasets import load_dataset\n",
        "\n",
        "# Load the dataset (example: NSL-KDD)\n",
        "dataset = load_dataset(\"onurkya7/NADW-network-attacks-dataset\")\n",
        "\n",
        "# Check the available splits (train/test)\n",
        "print(dataset)\n",
        "\n",
        "# Access the train data\n",
        "train_data = dataset['train']\n",
        "\n",
        "\n",
        "# Preview train data\n",
        "train_data_df = train_data.to_pandas()\n",
        "\n",
        "# ✅ FIX: Use `train_data` instead of `data`\n",
        "print(train_data.column_names)   # Shows the list of column names (features)\n",
        "print(train_data.features)       # Shows the datatype info of each column\n",
        "\n",
        "# Show top rows\n",
        "print(train_data_df.head())\n"
      ]
    },
    {
      "cell_type": "code",
      "execution_count": null,
      "metadata": {
        "colab": {
          "base_uri": "https://localhost:8080/",
          "height": 547
        },
        "id": "3LAibS-1f9J3",
        "outputId": "e7eaf934-e751-4598-bec6-f5623426adf5"
      },
      "outputs": [
        {
          "ename": "KeyError",
          "evalue": "'Label'",
          "output_type": "error",
          "traceback": [
            "\u001b[0;31m---------------------------------------------------------------------------\u001b[0m",
            "\u001b[0;31mKeyError\u001b[0m                                  Traceback (most recent call last)",
            "\u001b[0;32m/usr/local/lib/python3.11/dist-packages/pandas/core/indexes/base.py\u001b[0m in \u001b[0;36mget_loc\u001b[0;34m(self, key)\u001b[0m\n\u001b[1;32m   3804\u001b[0m         \u001b[0;32mtry\u001b[0m\u001b[0;34m:\u001b[0m\u001b[0;34m\u001b[0m\u001b[0;34m\u001b[0m\u001b[0m\n\u001b[0;32m-> 3805\u001b[0;31m             \u001b[0;32mreturn\u001b[0m \u001b[0mself\u001b[0m\u001b[0;34m.\u001b[0m\u001b[0m_engine\u001b[0m\u001b[0;34m.\u001b[0m\u001b[0mget_loc\u001b[0m\u001b[0;34m(\u001b[0m\u001b[0mcasted_key\u001b[0m\u001b[0;34m)\u001b[0m\u001b[0;34m\u001b[0m\u001b[0;34m\u001b[0m\u001b[0m\n\u001b[0m\u001b[1;32m   3806\u001b[0m         \u001b[0;32mexcept\u001b[0m \u001b[0mKeyError\u001b[0m \u001b[0;32mas\u001b[0m \u001b[0merr\u001b[0m\u001b[0;34m:\u001b[0m\u001b[0;34m\u001b[0m\u001b[0;34m\u001b[0m\u001b[0m\n",
            "\u001b[0;32mindex.pyx\u001b[0m in \u001b[0;36mpandas._libs.index.IndexEngine.get_loc\u001b[0;34m()\u001b[0m\n",
            "\u001b[0;32mindex.pyx\u001b[0m in \u001b[0;36mpandas._libs.index.IndexEngine.get_loc\u001b[0;34m()\u001b[0m\n",
            "\u001b[0;32mpandas/_libs/hashtable_class_helper.pxi\u001b[0m in \u001b[0;36mpandas._libs.hashtable.PyObjectHashTable.get_item\u001b[0;34m()\u001b[0m\n",
            "\u001b[0;32mpandas/_libs/hashtable_class_helper.pxi\u001b[0m in \u001b[0;36mpandas._libs.hashtable.PyObjectHashTable.get_item\u001b[0;34m()\u001b[0m\n",
            "\u001b[0;31mKeyError\u001b[0m: 'Label'",
            "\nThe above exception was the direct cause of the following exception:\n",
            "\u001b[0;31mKeyError\u001b[0m                                  Traceback (most recent call last)",
            "\u001b[0;32m/tmp/ipython-input-3-1658685908.py\u001b[0m in \u001b[0;36m<cell line: 0>\u001b[0;34m()\u001b[0m\n\u001b[1;32m     16\u001b[0m \u001b[0;31m# Label encode and scale\u001b[0m\u001b[0;34m\u001b[0m\u001b[0;34m\u001b[0m\u001b[0m\n\u001b[1;32m     17\u001b[0m \u001b[0mle\u001b[0m \u001b[0;34m=\u001b[0m \u001b[0mLabelEncoder\u001b[0m\u001b[0;34m(\u001b[0m\u001b[0;34m)\u001b[0m\u001b[0;34m\u001b[0m\u001b[0;34m\u001b[0m\u001b[0m\n\u001b[0;32m---> 18\u001b[0;31m \u001b[0mdf\u001b[0m\u001b[0;34m[\u001b[0m\u001b[0;34m'Label'\u001b[0m\u001b[0;34m]\u001b[0m \u001b[0;34m=\u001b[0m \u001b[0mle\u001b[0m\u001b[0;34m.\u001b[0m\u001b[0mfit_transform\u001b[0m\u001b[0;34m(\u001b[0m\u001b[0mdf\u001b[0m\u001b[0;34m[\u001b[0m\u001b[0;34m'Label'\u001b[0m\u001b[0;34m]\u001b[0m\u001b[0;34m)\u001b[0m  \u001b[0;31m# Benign=0, Threat=1\u001b[0m\u001b[0;34m\u001b[0m\u001b[0;34m\u001b[0m\u001b[0m\n\u001b[0m\u001b[1;32m     19\u001b[0m \u001b[0mX\u001b[0m \u001b[0;34m=\u001b[0m \u001b[0mdf\u001b[0m\u001b[0;34m.\u001b[0m\u001b[0mdrop\u001b[0m\u001b[0;34m(\u001b[0m\u001b[0;34m'Label'\u001b[0m\u001b[0;34m,\u001b[0m \u001b[0maxis\u001b[0m\u001b[0;34m=\u001b[0m\u001b[0;36m1\u001b[0m\u001b[0;34m)\u001b[0m\u001b[0;34m\u001b[0m\u001b[0;34m\u001b[0m\u001b[0m\n\u001b[1;32m     20\u001b[0m \u001b[0my\u001b[0m \u001b[0;34m=\u001b[0m \u001b[0mdf\u001b[0m\u001b[0;34m[\u001b[0m\u001b[0;34m'Label'\u001b[0m\u001b[0;34m]\u001b[0m\u001b[0;34m\u001b[0m\u001b[0;34m\u001b[0m\u001b[0m\n",
            "\u001b[0;32m/usr/local/lib/python3.11/dist-packages/pandas/core/frame.py\u001b[0m in \u001b[0;36m__getitem__\u001b[0;34m(self, key)\u001b[0m\n\u001b[1;32m   4100\u001b[0m             \u001b[0;32mif\u001b[0m \u001b[0mself\u001b[0m\u001b[0;34m.\u001b[0m\u001b[0mcolumns\u001b[0m\u001b[0;34m.\u001b[0m\u001b[0mnlevels\u001b[0m \u001b[0;34m>\u001b[0m \u001b[0;36m1\u001b[0m\u001b[0;34m:\u001b[0m\u001b[0;34m\u001b[0m\u001b[0;34m\u001b[0m\u001b[0m\n\u001b[1;32m   4101\u001b[0m                 \u001b[0;32mreturn\u001b[0m \u001b[0mself\u001b[0m\u001b[0;34m.\u001b[0m\u001b[0m_getitem_multilevel\u001b[0m\u001b[0;34m(\u001b[0m\u001b[0mkey\u001b[0m\u001b[0;34m)\u001b[0m\u001b[0;34m\u001b[0m\u001b[0;34m\u001b[0m\u001b[0m\n\u001b[0;32m-> 4102\u001b[0;31m             \u001b[0mindexer\u001b[0m \u001b[0;34m=\u001b[0m \u001b[0mself\u001b[0m\u001b[0;34m.\u001b[0m\u001b[0mcolumns\u001b[0m\u001b[0;34m.\u001b[0m\u001b[0mget_loc\u001b[0m\u001b[0;34m(\u001b[0m\u001b[0mkey\u001b[0m\u001b[0;34m)\u001b[0m\u001b[0;34m\u001b[0m\u001b[0;34m\u001b[0m\u001b[0m\n\u001b[0m\u001b[1;32m   4103\u001b[0m             \u001b[0;32mif\u001b[0m \u001b[0mis_integer\u001b[0m\u001b[0;34m(\u001b[0m\u001b[0mindexer\u001b[0m\u001b[0;34m)\u001b[0m\u001b[0;34m:\u001b[0m\u001b[0;34m\u001b[0m\u001b[0;34m\u001b[0m\u001b[0m\n\u001b[1;32m   4104\u001b[0m                 \u001b[0mindexer\u001b[0m \u001b[0;34m=\u001b[0m \u001b[0;34m[\u001b[0m\u001b[0mindexer\u001b[0m\u001b[0;34m]\u001b[0m\u001b[0;34m\u001b[0m\u001b[0;34m\u001b[0m\u001b[0m\n",
            "\u001b[0;32m/usr/local/lib/python3.11/dist-packages/pandas/core/indexes/base.py\u001b[0m in \u001b[0;36mget_loc\u001b[0;34m(self, key)\u001b[0m\n\u001b[1;32m   3810\u001b[0m             ):\n\u001b[1;32m   3811\u001b[0m                 \u001b[0;32mraise\u001b[0m \u001b[0mInvalidIndexError\u001b[0m\u001b[0;34m(\u001b[0m\u001b[0mkey\u001b[0m\u001b[0;34m)\u001b[0m\u001b[0;34m\u001b[0m\u001b[0;34m\u001b[0m\u001b[0m\n\u001b[0;32m-> 3812\u001b[0;31m             \u001b[0;32mraise\u001b[0m \u001b[0mKeyError\u001b[0m\u001b[0;34m(\u001b[0m\u001b[0mkey\u001b[0m\u001b[0;34m)\u001b[0m \u001b[0;32mfrom\u001b[0m \u001b[0merr\u001b[0m\u001b[0;34m\u001b[0m\u001b[0;34m\u001b[0m\u001b[0m\n\u001b[0m\u001b[1;32m   3813\u001b[0m         \u001b[0;32mexcept\u001b[0m \u001b[0mTypeError\u001b[0m\u001b[0;34m:\u001b[0m\u001b[0;34m\u001b[0m\u001b[0;34m\u001b[0m\u001b[0m\n\u001b[1;32m   3814\u001b[0m             \u001b[0;31m# If we have a listlike key, _check_indexing_error will raise\u001b[0m\u001b[0;34m\u001b[0m\u001b[0;34m\u001b[0m\u001b[0m\n",
            "\u001b[0;31mKeyError\u001b[0m: 'Label'"
          ]
        }
      ],
      "source": [
        "import pandas as pd\n",
        "from sklearn.preprocessing import LabelEncoder, StandardScaler\n",
        "from sklearn.ensemble import RandomForestClassifier\n",
        "from sklearn.metrics import accuracy_score\n",
        "from sklearn.model_selection import train_test_split\n",
        "\n",
        "# === STEP 1: Initial Data ===\n",
        "'''data = {\n",
        "    'feature1': [0.5, 1.2, 0.8, 1.0],\n",
        "    'feature2': [100, 150, 120, 130],\n",
        "    'feature3': [20, 25, 22, 21],\n",
        "    'Label': ['Benign', 'Threat', 'Benign', 'Threat']\n",
        "}'''\n",
        "df = pd.DataFrame(train_data)\n",
        "\n",
        "# Label encode and scale\n",
        "le = LabelEncoder()\n",
        "df['Label'] = le.fit_transform(df['Label'])  # Benign=0, Threat=1\n",
        "X = df.drop('Label', axis=1)\n",
        "y = df['Label']\n",
        "scaler = StandardScaler()\n",
        "X_scaled = scaler.fit_transform(X)\n",
        "\n",
        "# Split data\n",
        "X_train, X_test, y_train, y_test = train_test_split(X_scaled, y, test_size=0.5, random_state=42)\n",
        "\n",
        "# === STEP 2: Initial Model Training ===\n",
        "model = RandomForestClassifier(n_estimators=10, random_state=42)\n",
        "model.fit(X_train, y_train)\n",
        "initial_preds = model.predict(X_test)\n",
        "\n",
        "print(\"📌 Initial Accuracy:\", accuracy_score(y_test, initial_preds))\n",
        "\n",
        "# === STEP 3: New Data to Retrain ===\n",
        "new_data = {\n",
        "    'feature1': [1.4, 0.6],\n",
        "    'feature2': [140, 110],\n",
        "    'feature3': [24, 19],\n",
        "    'Label': ['Threat', 'Benign']\n",
        "}\n",
        "df_new = pd.DataFrame(new_data)\n",
        "df_new['Label'] = le.transform(df_new['Label'])\n",
        "X_new = scaler.transform(df_new.drop('Label', axis=1))\n",
        "y_new = df_new['Label']\n",
        "\n",
        "# === STEP 4: Retrain Function ===\n",
        "def retrain_model_with_new_data(model, X_new, y_new):\n",
        "    model.fit(X_new, y_new)\n",
        "    return model\n",
        "\n",
        "# Retrain the model\n",
        "model = retrain_model_with_new_data(model, X_new, y_new)\n",
        "\n",
        "# Evaluate after retraining (using test data)\n",
        "final_preds = model.predict(X_test)\n",
        "print(\"✅ Accuracy after retraining on new data:\", accuracy_score(y_test, final_preds))\n",
        "print(\"🔍 New Predictions:\", final_preds.tolist())\n"
      ]
    },
    {
      "cell_type": "code",
      "execution_count": null,
      "metadata": {
        "id": "9ueP6j688UHm"
      },
      "outputs": [],
      "source": [
        "import nbformat\n",
        "\n",
        "# Step 1: Upload your broken notebook again\n",
        "from google.colab import files\n",
        "uploaded = files.upload()\n",
        "\n",
        "# Replace this with the actual uploaded filename\n",
        "filename = list(uploaded.keys())[0]\n",
        "\n",
        "# Step 2: Load and clean\n",
        "with open(filename, \"r\", encoding=\"utf-8\") as f:\n",
        "    nb = nbformat.read(f, as_version=4)\n",
        "\n",
        "# ✅ Step 3: Clean ONLY metadata.widgets (KEEP outputs and execution_count)\n",
        "for cell in nb.cells:\n",
        "    if 'metadata' in cell:\n",
        "        cell['metadata'] = {k: v for k, v in cell['metadata'].items() if k != 'widgets'}\n",
        "\n",
        "# ✅ Step 4: Clear notebook-level metadata.widgets (if present)\n",
        "if 'widgets' in nb.get('metadata', {}):\n",
        "    del nb['metadata']['widgets']\n",
        "\n",
        "# Step 5: Save cleaned notebook\n",
        "cleaned_filename = filename.replace('.ipynb', '_fixed.ipynb')\n",
        "with open(cleaned_filename, \"w\", encoding=\"utf-8\") as f:\n",
        "    nbformat.write(nb, f)\n",
        "\n",
        "print(f\"✅ Cleaned notebook saved (outputs preserved) as {cleaned_filename}\")\n",
        "files.download(cleaned_filename)"
      ]
    }
  ],
  "metadata": {
    "colab": {
      "provenance": [],
      "include_colab_link": true
    },
    "kernelspec": {
      "display_name": "Python 3",
      "name": "python3"
    },
    "language_info": {
      "name": "python"
    }
  },
  "nbformat": 4,
  "nbformat_minor": 0
}